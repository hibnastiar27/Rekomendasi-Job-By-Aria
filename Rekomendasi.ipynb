{
  "cells": [
    {
      "cell_type": "markdown",
      "metadata": {
        "id": "SVBRU8puvjiZ"
      },
      "source": [
        "# Import"
      ]
    },
    {
      "cell_type": "code",
      "execution_count": 2,
      "metadata": {
        "colab": {
          "base_uri": "https://localhost:8080/"
        },
        "id": "G6M2hKnlszuF",
        "outputId": "bd0d3820-e8eb-4ce2-f128-aebe6f8c2828"
      },
      "outputs": [
        {
          "name": "stdout",
          "output_type": "stream",
          "text": [
            "Requirement already satisfied: kagglehub[pandas-datasets] in /usr/local/lib/python3.11/dist-packages (0.3.12)\n",
            "Requirement already satisfied: packaging in /usr/local/lib/python3.11/dist-packages (from kagglehub[pandas-datasets]) (24.2)\n",
            "Requirement already satisfied: pyyaml in /usr/local/lib/python3.11/dist-packages (from kagglehub[pandas-datasets]) (6.0.2)\n",
            "Requirement already satisfied: requests in /usr/local/lib/python3.11/dist-packages (from kagglehub[pandas-datasets]) (2.32.3)\n",
            "Requirement already satisfied: tqdm in /usr/local/lib/python3.11/dist-packages (from kagglehub[pandas-datasets]) (4.67.1)\n",
            "Requirement already satisfied: pandas in /usr/local/lib/python3.11/dist-packages (from kagglehub[pandas-datasets]) (2.2.2)\n",
            "Requirement already satisfied: numpy>=1.23.2 in /usr/local/lib/python3.11/dist-packages (from pandas->kagglehub[pandas-datasets]) (2.0.2)\n",
            "Requirement already satisfied: python-dateutil>=2.8.2 in /usr/local/lib/python3.11/dist-packages (from pandas->kagglehub[pandas-datasets]) (2.9.0.post0)\n",
            "Requirement already satisfied: pytz>=2020.1 in /usr/local/lib/python3.11/dist-packages (from pandas->kagglehub[pandas-datasets]) (2025.2)\n",
            "Requirement already satisfied: tzdata>=2022.7 in /usr/local/lib/python3.11/dist-packages (from pandas->kagglehub[pandas-datasets]) (2025.2)\n",
            "Requirement already satisfied: charset-normalizer<4,>=2 in /usr/local/lib/python3.11/dist-packages (from requests->kagglehub[pandas-datasets]) (3.4.2)\n",
            "Requirement already satisfied: idna<4,>=2.5 in /usr/local/lib/python3.11/dist-packages (from requests->kagglehub[pandas-datasets]) (3.10)\n",
            "Requirement already satisfied: urllib3<3,>=1.21.1 in /usr/local/lib/python3.11/dist-packages (from requests->kagglehub[pandas-datasets]) (2.4.0)\n",
            "Requirement already satisfied: certifi>=2017.4.17 in /usr/local/lib/python3.11/dist-packages (from requests->kagglehub[pandas-datasets]) (2025.4.26)\n",
            "Requirement already satisfied: six>=1.5 in /usr/local/lib/python3.11/dist-packages (from python-dateutil>=2.8.2->pandas->kagglehub[pandas-datasets]) (1.17.0)\n"
          ]
        }
      ],
      "source": [
        "pip install kagglehub[pandas-datasets]"
      ]
    },
    {
      "cell_type": "code",
      "execution_count": 90,
      "metadata": {
        "id": "mmWXh8SIv-bv"
      },
      "outputs": [],
      "source": [
        "# Dasar\n",
        "import kagglehub\n",
        "from kagglehub import KaggleDatasetAdapter\n",
        "import pandas as pd\n",
        "import re\n",
        "\n",
        "# Modling Dan Evaluasi\n",
        "import pandas as pd\n",
        "import numpy as np\n",
        "from sklearn.feature_extraction.text import TfidfVectorizer\n",
        "from sklearn.metrics.pairwise import cosine_similarity\n",
        "from sklearn.model_selection import train_test_split\n",
        "from sklearn.pipeline import Pipeline\n",
        "from sklearn.preprocessing import LabelEncoder\n",
        "from sklearn.ensemble import RandomForestClassifier\n",
        "from sklearn.metrics import classification_report, accuracy_score"
      ]
    },
    {
      "cell_type": "markdown",
      "metadata": {
        "id": "C31FNYa6vmd9"
      },
      "source": [
        "# Load Data"
      ]
    },
    {
      "cell_type": "code",
      "execution_count": 4,
      "metadata": {
        "colab": {
          "base_uri": "https://localhost:8080/"
        },
        "id": "aEXYzm4Jvod9",
        "outputId": "498dcff5-131a-4cce-91ed-107a075ee8c2"
      },
      "outputs": [
        {
          "name": "stderr",
          "output_type": "stream",
          "text": [
            "<ipython-input-4-8c4b047a5b8b>:5: DeprecationWarning: load_dataset is deprecated and will be removed in a future version.\n",
            "  df = kagglehub.load_dataset(\n"
          ]
        }
      ],
      "source": [
        "# Set the path to the file you'd like to load\n",
        "file_path = \"job_descriptions.csv\"\n",
        "\n",
        "# Load the latest version\n",
        "df = kagglehub.load_dataset(\n",
        "  KaggleDatasetAdapter.PANDAS,\n",
        "  \"ravindrasinghrana/job-description-dataset\",\n",
        "  file_path,\n",
        "  # Provide any additional arguments like\n",
        "  # sql_query or pandas_kwargs. See the\n",
        "  # documenation for more information:\n",
        "  # https://github.com/Kaggle/kagglehub/blob/main/README.md#kaggledatasetadapterpandas\n",
        ")"
      ]
    },
    {
      "cell_type": "markdown",
      "metadata": {
        "id": "i6M-nPA4vo1w"
      },
      "source": [
        "# EDA"
      ]
    },
    {
      "cell_type": "markdown",
      "metadata": {
        "id": "zcPU25XYwTw-"
      },
      "source": [
        "Jumlah Keseluruhan Data"
      ]
    },
    {
      "cell_type": "code",
      "execution_count": 5,
      "metadata": {
        "colab": {
          "base_uri": "https://localhost:8080/"
        },
        "id": "3uyr0oKovsD4",
        "outputId": "354b650b-44bf-4f31-d4e2-277c6209a153"
      },
      "outputs": [
        {
          "name": "stdout",
          "output_type": "stream",
          "text": [
            "<class 'pandas.core.frame.DataFrame'>\n",
            "RangeIndex: 1615940 entries, 0 to 1615939\n",
            "Data columns (total 23 columns):\n",
            " #   Column            Non-Null Count    Dtype  \n",
            "---  ------            --------------    -----  \n",
            " 0   Job Id            1615940 non-null  int64  \n",
            " 1   Experience        1615940 non-null  object \n",
            " 2   Qualifications    1615940 non-null  object \n",
            " 3   Salary Range      1615940 non-null  object \n",
            " 4   location          1615940 non-null  object \n",
            " 5   Country           1615940 non-null  object \n",
            " 6   latitude          1615940 non-null  float64\n",
            " 7   longitude         1615940 non-null  float64\n",
            " 8   Work Type         1615940 non-null  object \n",
            " 9   Company Size      1615940 non-null  int64  \n",
            " 10  Job Posting Date  1615940 non-null  object \n",
            " 11  Preference        1615940 non-null  object \n",
            " 12  Contact Person    1615940 non-null  object \n",
            " 13  Contact           1615940 non-null  object \n",
            " 14  Job Title         1615940 non-null  object \n",
            " 15  Role              1615940 non-null  object \n",
            " 16  Job Portal        1615940 non-null  object \n",
            " 17  Job Description   1615940 non-null  object \n",
            " 18  Benefits          1615940 non-null  object \n",
            " 19  skills            1615940 non-null  object \n",
            " 20  Responsibilities  1615940 non-null  object \n",
            " 21  Company           1615940 non-null  object \n",
            " 22  Company Profile   1610462 non-null  object \n",
            "dtypes: float64(2), int64(2), object(19)\n",
            "memory usage: 283.6+ MB\n"
          ]
        }
      ],
      "source": [
        "df.info()"
      ]
    },
    {
      "cell_type": "markdown",
      "metadata": {
        "id": "xcuDUOa3wXrK"
      },
      "source": [
        "Fitur yang akan diolah\n",
        "\n",
        "1. Job Title\n",
        "2. Job Description\n",
        "3. skills\n",
        "4. Responsibilities\n",
        "5. Qualifications\n",
        "6. location\n",
        "7. Work Type"
      ]
    },
    {
      "cell_type": "markdown",
      "metadata": {
        "id": "lPR9W-GUwbr1"
      },
      "source": [
        "Kolom Unik untuk 7 fitur di atas"
      ]
    },
    {
      "cell_type": "code",
      "execution_count": 9,
      "metadata": {
        "colab": {
          "base_uri": "https://localhost:8080/"
        },
        "id": "PYRcIToOweYB",
        "outputId": "5bd03ea4-d01f-4971-ae94-2ececd63630c"
      },
      "outputs": [
        {
          "data": {
            "text/plain": [
              "147"
            ]
          },
          "execution_count": 9,
          "metadata": {},
          "output_type": "execute_result"
        }
      ],
      "source": [
        "len(df['Job Title'].unique())"
      ]
    },
    {
      "cell_type": "code",
      "execution_count": 12,
      "metadata": {
        "colab": {
          "base_uri": "https://localhost:8080/"
        },
        "id": "1vb--4RI33TX",
        "outputId": "0c1e3bcb-7259-4831-c66f-63c81fecada9"
      },
      "outputs": [
        {
          "data": {
            "text/plain": [
              "376"
            ]
          },
          "execution_count": 12,
          "metadata": {},
          "output_type": "execute_result"
        }
      ],
      "source": [
        "len(df['skills'].unique())"
      ]
    },
    {
      "cell_type": "code",
      "execution_count": 14,
      "metadata": {
        "colab": {
          "base_uri": "https://localhost:8080/"
        },
        "id": "HVP0yWKr4Df3",
        "outputId": "19d2a23f-bcfa-438a-c657-0b20ffc2cbcf"
      },
      "outputs": [
        {
          "name": "stdout",
          "output_type": "stream",
          "text": [
            "['M.Tech' 'BCA' 'PhD' 'MBA' 'MCA' 'M.Com' 'BBA' 'B.Tech' 'B.Com' 'BA']\n",
            "10\n"
          ]
        }
      ],
      "source": [
        "print(df['Qualifications'].unique()) # Pendidikan\n",
        "print(len(df['Qualifications'].unique()))"
      ]
    },
    {
      "cell_type": "code",
      "execution_count": 16,
      "metadata": {
        "colab": {
          "base_uri": "https://localhost:8080/"
        },
        "id": "ongmPWpH4Kxy",
        "outputId": "e995217c-db6f-44a1-eaf1-cf863fd082e3"
      },
      "outputs": [
        {
          "name": "stdout",
          "output_type": "stream",
          "text": [
            "375\n"
          ]
        }
      ],
      "source": [
        "# print(df['Responsibilities'].unique()) # Pengalaman\n",
        "print(len(df['Responsibilities'].unique()))"
      ]
    },
    {
      "cell_type": "code",
      "execution_count": 17,
      "metadata": {
        "colab": {
          "base_uri": "https://localhost:8080/"
        },
        "id": "KGODYMQa4blO",
        "outputId": "ba134d23-086b-4edb-bd6d-7cfbf7b66799"
      },
      "outputs": [
        {
          "name": "stdout",
          "output_type": "stream",
          "text": [
            "['Douglas' 'Ashgabat' 'Macao' 'Porto-Novo' 'Santiago' 'Brussels'\n",
            " 'George Town' 'SÃ£o TomÃ©' 'Male' \"Saint John's\" 'Manama'\n",
            " 'The City of Hamilton' 'Kingston' 'Banjul' 'Damascus' 'Sanaa'\n",
            " 'San Marino' 'Papeete' 'Seoul' 'Kinshasa' 'Baku' 'Funafuti' 'Asmara'\n",
            " 'Tegucigalpa' 'Road Town' 'Havana' 'Budapest' 'AsunciÃ³n' 'Amman' 'Abuja'\n",
            " 'Tripoli' 'Canberra' 'Noumea' 'Muscat' 'Gaza' 'Honiara' 'Yamoussoukro'\n",
            " 'Quito' 'Charlotte Amalie' 'Yaounde' 'Moroni' 'Madrid' 'Belmopan'\n",
            " 'Valletta' 'Panama City' 'Brazzaville' 'Cockburn Town' 'Phnom Penh'\n",
            " 'Monaco' 'Yerevan' 'Hagatna' 'Castries' 'New Delhi' 'Mogadishu'\n",
            " 'Islamabad' 'Bandar Seri Begawan' 'Roseau' 'London' 'Kabul' 'Ulaanbaatar'\n",
            " 'Bratislava' 'Rabat' 'Pretoria' 'Gaborone' 'Marigot' 'Riyadh' 'Dhaka'\n",
            " 'Kathmandu' 'Kuala Lumpur' 'Bishkek' 'Sri Jayawardenepura Kotte'\n",
            " 'Mexico City' 'Chisinau' 'Guatemala City' 'Moscow' 'Riga' 'Berlin'\n",
            " 'Djibouti (city)' 'Paramaribo' 'City of Port Louis' 'Bamako' 'San Jose'\n",
            " 'Jakarta' 'Suva' 'Kigali' 'Juba' 'Vientiane' 'San Juan' 'Tokyo'\n",
            " 'Sucre (de jure)' 'Manila' 'Luxembourg' 'Praia' 'Port Moresby' 'Dakar'\n",
            " 'Oslo' 'Maseru' 'Copenhagen' 'Kuwait City' 'Port Vila' 'Lusaka'\n",
            " 'Brasilia' 'Port of Spain' 'Kampala' 'City of Victoria' 'Prague' 'Bangui'\n",
            " 'Washington, D.C.' 'Montevideo' 'Antananarivo' 'Skopje' 'Port-au-Prince'\n",
            " 'Malabo (de jure),' 'Monrovia' 'Bridgetown' 'Tehran' 'Santo Domingo'\n",
            " 'Singapore' 'Lima' 'Conakry' 'Ngerulmud' 'Gibraltar' 'Victoria'\n",
            " 'City of Baghdad' 'Nairobi' 'Bucharest' 'Nicosia' 'Nouakchott'\n",
            " 'Amsterdam' 'Paris' 'Dili' 'Apia' \"N'Djamena\" 'Dublin' 'Accra' 'BogotÃ¡'\n",
            " 'Bangkok' 'Tashkent' 'Naypyidaw' 'Kingstown' 'Ouagadougou' 'Torshavn'\n",
            " 'Nuuk' 'Sarajevo' 'Nur-Sultan' 'Managua' 'Beijing' 'Vaduz' 'Warsaw'\n",
            " 'Bern' 'Buenos Aires' 'Mbabane' 'Dodoma' 'Caracas' 'Jerusalem' 'Thimphu'\n",
            " 'Harare' 'Andorra la Vella' 'Cairo' 'Basseterre' 'Lisbon' 'Khartoum'\n",
            " 'Ottawa' 'Wellington' 'Freetown' 'Bissau' 'Abu Dhabi' 'LomÃ©'\n",
            " 'Libreville' 'Sofia' 'ReykjavÃ\\xadk' 'Willemstad' 'Doha' 'Tunis'\n",
            " 'Addis Ababa' 'Palikir' 'Georgetown' 'Philipsburg' 'Nuku?alofa'\n",
            " 'San Salvador' 'Helsinki' 'Gitega' 'Rome' 'Niamey' 'Athens' 'Luanda'\n",
            " 'Oranjestad' 'Tallinn' \"Saint George's\" 'Tarawa' 'Vilnius' 'Minsk'\n",
            " 'Beirut' 'Zagreb' 'Maputo' 'Tbilisi' 'Dushanbe' 'Belgrade' 'Pristina'\n",
            " 'Windhoek' 'Yaren District (de facto)' 'Lilongwe' 'Podgorica' 'Algiers'\n",
            " 'Nassau' 'Stockholm' 'Vienna' 'Kyiv (also known as Kiev)' 'Tirana'\n",
            " 'Majuro' 'Capitol Hill, Saipan' 'Hanoi' 'Ankara' 'Ljubljana']\n",
            "214\n"
          ]
        }
      ],
      "source": [
        "print(df['location'].unique()) # Lokasi\n",
        "print(len(df['location'].unique()))"
      ]
    },
    {
      "cell_type": "code",
      "execution_count": 20,
      "metadata": {
        "colab": {
          "base_uri": "https://localhost:8080/"
        },
        "id": "R3DLt6kE4ehs",
        "outputId": "27c60ef2-9db2-4067-f8ec-0efc2f7da4ae"
      },
      "outputs": [
        {
          "name": "stdout",
          "output_type": "stream",
          "text": [
            "['Intern' 'Temporary' 'Full-Time' 'Contract' 'Part-Time']\n",
            "5\n"
          ]
        }
      ],
      "source": [
        "print(df['Work Type'].unique()) # Jenis Pekerjaan\n",
        "print(len(df['Work Type'].unique()))"
      ]
    },
    {
      "cell_type": "markdown",
      "metadata": {
        "id": "SKYL4DjU4n0Y"
      },
      "source": [
        "## Summary"
      ]
    },
    {
      "cell_type": "markdown",
      "metadata": {
        "id": "CIUdv86b4qfb"
      },
      "source": [
        "1. Total data ada 1juta lebih, tetapi yang akan digunakan hanya sample yaitu 10 ribu saja.\n",
        "2. yang akan digunakan ada 7 yaitu :\n",
        "  1. Job Title\n",
        "  2. Job Description\n",
        "  3. skills\n",
        "  4. Responsibilities\n",
        "  5. Qualifications\n",
        "  6. location\n",
        "  7. Work Type"
      ]
    },
    {
      "cell_type": "markdown",
      "metadata": {
        "id": "p8xFZfcZvsiP"
      },
      "source": [
        "# Cleaning"
      ]
    },
    {
      "cell_type": "markdown",
      "metadata": {
        "id": "AZlSJZ4Qwfkv"
      },
      "source": [
        "- Filter hanya 7 fitur seperti yang di EDA\n",
        "- Hilangkan Null Jika ada\n",
        "- Hilangkan Duplikat jika ada\n",
        "- Buat jadi sample 10k data"
      ]
    },
    {
      "cell_type": "markdown",
      "metadata": {
        "id": "GM_hfMAbAzCu"
      },
      "source": [
        "Sampling dulu jadi 10k data"
      ]
    },
    {
      "cell_type": "code",
      "execution_count": 98,
      "metadata": {
        "colab": {
          "base_uri": "https://localhost:8080/"
        },
        "id": "UWNkHzYdAvg3",
        "outputId": "126f68da-2b09-43ea-af93-45fed9a2bd47"
      },
      "outputs": [
        {
          "name": "stdout",
          "output_type": "stream",
          "text": [
            "<class 'pandas.core.frame.DataFrame'>\n",
            "Index: 10000 entries, 1541831 to 1559380\n",
            "Data columns (total 23 columns):\n",
            " #   Column            Non-Null Count  Dtype  \n",
            "---  ------            --------------  -----  \n",
            " 0   Job Id            10000 non-null  int64  \n",
            " 1   Experience        10000 non-null  object \n",
            " 2   Qualifications    10000 non-null  object \n",
            " 3   Salary Range      10000 non-null  object \n",
            " 4   location          10000 non-null  object \n",
            " 5   Country           10000 non-null  object \n",
            " 6   latitude          10000 non-null  float64\n",
            " 7   longitude         10000 non-null  float64\n",
            " 8   Work Type         10000 non-null  object \n",
            " 9   Company Size      10000 non-null  int64  \n",
            " 10  Job Posting Date  10000 non-null  object \n",
            " 11  Preference        10000 non-null  object \n",
            " 12  Contact Person    10000 non-null  object \n",
            " 13  Contact           10000 non-null  object \n",
            " 14  Job Title         10000 non-null  object \n",
            " 15  Role              10000 non-null  object \n",
            " 16  Job Portal        10000 non-null  object \n",
            " 17  Job Description   10000 non-null  object \n",
            " 18  Benefits          10000 non-null  object \n",
            " 19  skills            10000 non-null  object \n",
            " 20  Responsibilities  10000 non-null  object \n",
            " 21  Company           10000 non-null  object \n",
            " 22  Company Profile   9964 non-null   object \n",
            "dtypes: float64(2), int64(2), object(19)\n",
            "memory usage: 1.8+ MB\n"
          ]
        }
      ],
      "source": [
        "df_sample = df.sample(n=10000, random_state=27)\n",
        "df_sample.info()"
      ]
    },
    {
      "cell_type": "markdown",
      "metadata": {
        "id": "cu44Tpt46ecp"
      },
      "source": [
        "7 Fitur"
      ]
    },
    {
      "cell_type": "code",
      "execution_count": 99,
      "metadata": {
        "id": "VVIUGuTZvttj"
      },
      "outputs": [],
      "source": [
        "df_clean = df_sample.copy()"
      ]
    },
    {
      "cell_type": "code",
      "execution_count": 100,
      "metadata": {
        "id": "63Tw3ujf5nDm"
      },
      "outputs": [],
      "source": [
        "df_clean = df_clean[['Job Title', 'Job Description', 'skills', 'Responsibilities', 'Qualifications', 'location', 'Work Type']]"
      ]
    },
    {
      "cell_type": "code",
      "execution_count": 101,
      "metadata": {
        "colab": {
          "base_uri": "https://localhost:8080/"
        },
        "id": "19azQ1V65p6J",
        "outputId": "05af8aab-5f89-4c96-b3ed-725dd1004b82"
      },
      "outputs": [
        {
          "name": "stdout",
          "output_type": "stream",
          "text": [
            "<class 'pandas.core.frame.DataFrame'>\n",
            "Index: 10000 entries, 1541831 to 1559380\n",
            "Data columns (total 7 columns):\n",
            " #   Column            Non-Null Count  Dtype \n",
            "---  ------            --------------  ----- \n",
            " 0   Job Title         10000 non-null  object\n",
            " 1   Job Description   10000 non-null  object\n",
            " 2   skills            10000 non-null  object\n",
            " 3   Responsibilities  10000 non-null  object\n",
            " 4   Qualifications    10000 non-null  object\n",
            " 5   location          10000 non-null  object\n",
            " 6   Work Type         10000 non-null  object\n",
            "dtypes: object(7)\n",
            "memory usage: 625.0+ KB\n"
          ]
        }
      ],
      "source": [
        "df_clean.info()"
      ]
    },
    {
      "cell_type": "markdown",
      "metadata": {
        "id": "yinyW-fP6gA_"
      },
      "source": [
        "Hapus Duplikat"
      ]
    },
    {
      "cell_type": "code",
      "execution_count": 102,
      "metadata": {
        "colab": {
          "base_uri": "https://localhost:8080/"
        },
        "id": "WcJR3e8y515y",
        "outputId": "445c1108-ba70-4def-b903-f6aa5d29c5e6"
      },
      "outputs": [
        {
          "data": {
            "text/plain": [
              "np.int64(19)"
            ]
          },
          "execution_count": 102,
          "metadata": {},
          "output_type": "execute_result"
        }
      ],
      "source": [
        "df_clean.duplicated().sum()"
      ]
    },
    {
      "cell_type": "code",
      "execution_count": 103,
      "metadata": {
        "colab": {
          "base_uri": "https://localhost:8080/"
        },
        "id": "h9CzeX9i6E7X",
        "outputId": "91c09d9f-a65c-4389-bde6-cfb3fbdacc8a"
      },
      "outputs": [
        {
          "data": {
            "text/plain": [
              "np.int64(0)"
            ]
          },
          "execution_count": 103,
          "metadata": {},
          "output_type": "execute_result"
        }
      ],
      "source": [
        "df_clean = df_clean.drop_duplicates()\n",
        "df_clean.duplicated().sum()"
      ]
    },
    {
      "cell_type": "code",
      "execution_count": 104,
      "metadata": {
        "colab": {
          "base_uri": "https://localhost:8080/"
        },
        "id": "AuvjBsdy6NAi",
        "outputId": "fb5f878c-47c7-4310-99e7-b91d686363f2"
      },
      "outputs": [
        {
          "name": "stdout",
          "output_type": "stream",
          "text": [
            "<class 'pandas.core.frame.DataFrame'>\n",
            "Index: 9981 entries, 1541831 to 1559380\n",
            "Data columns (total 7 columns):\n",
            " #   Column            Non-Null Count  Dtype \n",
            "---  ------            --------------  ----- \n",
            " 0   Job Title         9981 non-null   object\n",
            " 1   Job Description   9981 non-null   object\n",
            " 2   skills            9981 non-null   object\n",
            " 3   Responsibilities  9981 non-null   object\n",
            " 4   Qualifications    9981 non-null   object\n",
            " 5   location          9981 non-null   object\n",
            " 6   Work Type         9981 non-null   object\n",
            "dtypes: object(7)\n",
            "memory usage: 623.8+ KB\n"
          ]
        }
      ],
      "source": [
        "df_clean.info()"
      ]
    },
    {
      "cell_type": "markdown",
      "metadata": {
        "id": "D4l2kDwE6in3"
      },
      "source": [
        "Jika Null Hapus"
      ]
    },
    {
      "cell_type": "code",
      "execution_count": 105,
      "metadata": {
        "colab": {
          "base_uri": "https://localhost:8080/",
          "height": 303
        },
        "id": "rgZgqfm46CRH",
        "outputId": "1a9fa5cc-3ec8-43d4-dc17-4a1fe96e2559"
      },
      "outputs": [
        {
          "data": {
            "text/html": [
              "<div>\n",
              "<style scoped>\n",
              "    .dataframe tbody tr th:only-of-type {\n",
              "        vertical-align: middle;\n",
              "    }\n",
              "\n",
              "    .dataframe tbody tr th {\n",
              "        vertical-align: top;\n",
              "    }\n",
              "\n",
              "    .dataframe thead th {\n",
              "        text-align: right;\n",
              "    }\n",
              "</style>\n",
              "<table border=\"1\" class=\"dataframe\">\n",
              "  <thead>\n",
              "    <tr style=\"text-align: right;\">\n",
              "      <th></th>\n",
              "      <th>0</th>\n",
              "    </tr>\n",
              "  </thead>\n",
              "  <tbody>\n",
              "    <tr>\n",
              "      <th>Job Title</th>\n",
              "      <td>0</td>\n",
              "    </tr>\n",
              "    <tr>\n",
              "      <th>Job Description</th>\n",
              "      <td>0</td>\n",
              "    </tr>\n",
              "    <tr>\n",
              "      <th>skills</th>\n",
              "      <td>0</td>\n",
              "    </tr>\n",
              "    <tr>\n",
              "      <th>Responsibilities</th>\n",
              "      <td>0</td>\n",
              "    </tr>\n",
              "    <tr>\n",
              "      <th>Qualifications</th>\n",
              "      <td>0</td>\n",
              "    </tr>\n",
              "    <tr>\n",
              "      <th>location</th>\n",
              "      <td>0</td>\n",
              "    </tr>\n",
              "    <tr>\n",
              "      <th>Work Type</th>\n",
              "      <td>0</td>\n",
              "    </tr>\n",
              "  </tbody>\n",
              "</table>\n",
              "</div><br><label><b>dtype:</b> int64</label>"
            ],
            "text/plain": [
              "Job Title           0\n",
              "Job Description     0\n",
              "skills              0\n",
              "Responsibilities    0\n",
              "Qualifications      0\n",
              "location            0\n",
              "Work Type           0\n",
              "dtype: int64"
            ]
          },
          "execution_count": 105,
          "metadata": {},
          "output_type": "execute_result"
        }
      ],
      "source": [
        "df_clean.isnull().sum()"
      ]
    },
    {
      "cell_type": "markdown",
      "metadata": {
        "id": "eGgyFbhm7jx2"
      },
      "source": [
        "## Sumary"
      ]
    },
    {
      "cell_type": "markdown",
      "metadata": {
        "id": "Eiz__CDk7lqq"
      },
      "source": [
        "1. 7 Fitur yang digunakan\n",
        "2. Terdapat Duplicate sebanyak (19) dan dihapus\n",
        "3. tidak ada data yang null"
      ]
    },
    {
      "cell_type": "code",
      "execution_count": 141,
      "metadata": {
        "colab": {
          "base_uri": "https://localhost:8080/",
          "height": 310
        },
        "id": "mqE4YYReHSYM",
        "outputId": "194cf81b-edf0-4547-8873-4fb55d704609"
      },
      "outputs": [
        {
          "data": {
            "application/vnd.google.colaboratory.intrinsic+json": {
              "summary": "{\n  \"name\": \"df_clean\",\n  \"rows\": 9981,\n  \"fields\": [\n    {\n      \"column\": \"Job Title\",\n      \"properties\": {\n        \"dtype\": \"category\",\n        \"num_unique_values\": 147,\n        \"samples\": [\n          \"Accountant\",\n          \"Marketing Specialist\",\n          \"Public Relations Specialist\"\n        ],\n        \"semantic_type\": \"\",\n        \"description\": \"\"\n      }\n    },\n    {\n      \"column\": \"Job Description\",\n      \"properties\": {\n        \"dtype\": \"category\",\n        \"num_unique_values\": 376,\n        \"samples\": [\n          \"Pediatric Speech Therapists provide speech therapy to children with speech and language disorders. They assess and treat communication difficulties to improve language skills.\",\n          \"Wealth Advisors provide financial advice to clients. They assess financial goals, create investment strategies, and offer guidance on wealth management and financial planning.\",\n          \"Lighting Designers create lighting plans for architectural and artistic purposes. They enhance spaces with lighting effects, aesthetics, and energy-efficient lighting solutions.\"\n        ],\n        \"semantic_type\": \"\",\n        \"description\": \"\"\n      }\n    },\n    {\n      \"column\": \"skills\",\n      \"properties\": {\n        \"dtype\": \"category\",\n        \"num_unique_values\": 376,\n        \"samples\": [\n          \"Pediatric speech therapy Speech-language assessment Individualized treatment plans Child development Communication skills\",\n          \"Financial planning Investment knowledge Relationship management Communication skills Analytical skills\",\n          \"Lighting design Architectural lighting Lighting software proficiency Creative lighting concepts Technical knowledge\"\n        ],\n        \"semantic_type\": \"\",\n        \"description\": \"\"\n      }\n    },\n    {\n      \"column\": \"Responsibilities\",\n      \"properties\": {\n        \"dtype\": \"category\",\n        \"num_unique_values\": 375,\n        \"samples\": [\n          \"Manage paid advertising campaigns on various platforms, including social media and display networks. Create ad creatives and targeting strategies. Monitor ad spend and ROI.\",\n          \"Establish and enforce quality control standards and procedures. Conduct quality audits and inspections. Collaborate with production teams to address quality issues and implement improvements.\",\n          \"Provide therapy and counseling services to individuals, couples, and families. Conduct psychological assessments and diagnoses. Develop treatment plans and provide ongoing support.\"\n        ],\n        \"semantic_type\": \"\",\n        \"description\": \"\"\n      }\n    },\n    {\n      \"column\": \"Qualifications\",\n      \"properties\": {\n        \"dtype\": \"category\",\n        \"num_unique_values\": 10,\n        \"samples\": [\n          \"M.Tech\",\n          \"BCA\",\n          \"MBA\"\n        ],\n        \"semantic_type\": \"\",\n        \"description\": \"\"\n      }\n    },\n    {\n      \"column\": \"location\",\n      \"properties\": {\n        \"dtype\": \"category\",\n        \"num_unique_values\": 214,\n        \"samples\": [\n          \"Sri Jayawardenepura Kotte\",\n          \"Damascus\",\n          \"Tegucigalpa\"\n        ],\n        \"semantic_type\": \"\",\n        \"description\": \"\"\n      }\n    },\n    {\n      \"column\": \"Work Type\",\n      \"properties\": {\n        \"dtype\": \"category\",\n        \"num_unique_values\": 5,\n        \"samples\": [\n          \"Full-Time\",\n          \"Contract\",\n          \"Part-Time\"\n        ],\n        \"semantic_type\": \"\",\n        \"description\": \"\"\n      }\n    }\n  ]\n}",
              "type": "dataframe",
              "variable_name": "df_clean"
            },
            "text/html": [
              "\n",
              "  <div id=\"df-750e3326-5969-4716-908c-f64b6cc42db6\" class=\"colab-df-container\">\n",
              "    <div>\n",
              "<style scoped>\n",
              "    .dataframe tbody tr th:only-of-type {\n",
              "        vertical-align: middle;\n",
              "    }\n",
              "\n",
              "    .dataframe tbody tr th {\n",
              "        vertical-align: top;\n",
              "    }\n",
              "\n",
              "    .dataframe thead th {\n",
              "        text-align: right;\n",
              "    }\n",
              "</style>\n",
              "<table border=\"1\" class=\"dataframe\">\n",
              "  <thead>\n",
              "    <tr style=\"text-align: right;\">\n",
              "      <th></th>\n",
              "      <th>Job Title</th>\n",
              "      <th>Job Description</th>\n",
              "      <th>skills</th>\n",
              "      <th>Responsibilities</th>\n",
              "      <th>Qualifications</th>\n",
              "      <th>location</th>\n",
              "      <th>Work Type</th>\n",
              "    </tr>\n",
              "  </thead>\n",
              "  <tbody>\n",
              "    <tr>\n",
              "      <th>1541831</th>\n",
              "      <td>Data Entry Clerk</td>\n",
              "      <td>An Administrative Assistant provides administr...</td>\n",
              "      <td>Office management Administrative tasks Communi...</td>\n",
              "      <td>Provide administrative support, such as managi...</td>\n",
              "      <td>PhD</td>\n",
              "      <td>Monaco</td>\n",
              "      <td>Temporary</td>\n",
              "    </tr>\n",
              "    <tr>\n",
              "      <th>1423110</th>\n",
              "      <td>Network Engineer</td>\n",
              "      <td>Wireless Network Engineers design, implement, ...</td>\n",
              "      <td>Wireless network design and architecture Wi-Fi...</td>\n",
              "      <td>Design, configure, and optimize wireless netwo...</td>\n",
              "      <td>BCA</td>\n",
              "      <td>Madrid</td>\n",
              "      <td>Full-Time</td>\n",
              "    </tr>\n",
              "    <tr>\n",
              "      <th>788976</th>\n",
              "      <td>Structural Engineer</td>\n",
              "      <td>A Design Engineer creates and develops product...</td>\n",
              "      <td>Engineering design CAD software proficiency Pr...</td>\n",
              "      <td>Design structural systems and components for b...</td>\n",
              "      <td>MCA</td>\n",
              "      <td>San Salvador</td>\n",
              "      <td>Part-Time</td>\n",
              "    </tr>\n",
              "    <tr>\n",
              "      <th>233945</th>\n",
              "      <td>QA Analyst</td>\n",
              "      <td>Performance Testing Specialists assess the per...</td>\n",
              "      <td>Performance testing Load testing Stress testin...</td>\n",
              "      <td>Focus on performance and load testing to asses...</td>\n",
              "      <td>B.Tech</td>\n",
              "      <td>Niamey</td>\n",
              "      <td>Temporary</td>\n",
              "    </tr>\n",
              "    <tr>\n",
              "      <th>626013</th>\n",
              "      <td>Family Nurse Practitioner</td>\n",
              "      <td>Geriatric Nurse Practitioners focus on the hea...</td>\n",
              "      <td>Geriatric healthcare Geriatric assessment Geri...</td>\n",
              "      <td>Focus on elderly patient care, addressing age-...</td>\n",
              "      <td>BA</td>\n",
              "      <td>Bangkok</td>\n",
              "      <td>Part-Time</td>\n",
              "    </tr>\n",
              "  </tbody>\n",
              "</table>\n",
              "</div>\n",
              "    <div class=\"colab-df-buttons\">\n",
              "\n",
              "  <div class=\"colab-df-container\">\n",
              "    <button class=\"colab-df-convert\" onclick=\"convertToInteractive('df-750e3326-5969-4716-908c-f64b6cc42db6')\"\n",
              "            title=\"Convert this dataframe to an interactive table.\"\n",
              "            style=\"display:none;\">\n",
              "\n",
              "  <svg xmlns=\"http://www.w3.org/2000/svg\" height=\"24px\" viewBox=\"0 -960 960 960\">\n",
              "    <path d=\"M120-120v-720h720v720H120Zm60-500h600v-160H180v160Zm220 220h160v-160H400v160Zm0 220h160v-160H400v160ZM180-400h160v-160H180v160Zm440 0h160v-160H620v160ZM180-180h160v-160H180v160Zm440 0h160v-160H620v160Z\"/>\n",
              "  </svg>\n",
              "    </button>\n",
              "\n",
              "  <style>\n",
              "    .colab-df-container {\n",
              "      display:flex;\n",
              "      gap: 12px;\n",
              "    }\n",
              "\n",
              "    .colab-df-convert {\n",
              "      background-color: #E8F0FE;\n",
              "      border: none;\n",
              "      border-radius: 50%;\n",
              "      cursor: pointer;\n",
              "      display: none;\n",
              "      fill: #1967D2;\n",
              "      height: 32px;\n",
              "      padding: 0 0 0 0;\n",
              "      width: 32px;\n",
              "    }\n",
              "\n",
              "    .colab-df-convert:hover {\n",
              "      background-color: #E2EBFA;\n",
              "      box-shadow: 0px 1px 2px rgba(60, 64, 67, 0.3), 0px 1px 3px 1px rgba(60, 64, 67, 0.15);\n",
              "      fill: #174EA6;\n",
              "    }\n",
              "\n",
              "    .colab-df-buttons div {\n",
              "      margin-bottom: 4px;\n",
              "    }\n",
              "\n",
              "    [theme=dark] .colab-df-convert {\n",
              "      background-color: #3B4455;\n",
              "      fill: #D2E3FC;\n",
              "    }\n",
              "\n",
              "    [theme=dark] .colab-df-convert:hover {\n",
              "      background-color: #434B5C;\n",
              "      box-shadow: 0px 1px 3px 1px rgba(0, 0, 0, 0.15);\n",
              "      filter: drop-shadow(0px 1px 2px rgba(0, 0, 0, 0.3));\n",
              "      fill: #FFFFFF;\n",
              "    }\n",
              "  </style>\n",
              "\n",
              "    <script>\n",
              "      const buttonEl =\n",
              "        document.querySelector('#df-750e3326-5969-4716-908c-f64b6cc42db6 button.colab-df-convert');\n",
              "      buttonEl.style.display =\n",
              "        google.colab.kernel.accessAllowed ? 'block' : 'none';\n",
              "\n",
              "      async function convertToInteractive(key) {\n",
              "        const element = document.querySelector('#df-750e3326-5969-4716-908c-f64b6cc42db6');\n",
              "        const dataTable =\n",
              "          await google.colab.kernel.invokeFunction('convertToInteractive',\n",
              "                                                    [key], {});\n",
              "        if (!dataTable) return;\n",
              "\n",
              "        const docLinkHtml = 'Like what you see? Visit the ' +\n",
              "          '<a target=\"_blank\" href=https://colab.research.google.com/notebooks/data_table.ipynb>data table notebook</a>'\n",
              "          + ' to learn more about interactive tables.';\n",
              "        element.innerHTML = '';\n",
              "        dataTable['output_type'] = 'display_data';\n",
              "        await google.colab.output.renderOutput(dataTable, element);\n",
              "        const docLink = document.createElement('div');\n",
              "        docLink.innerHTML = docLinkHtml;\n",
              "        element.appendChild(docLink);\n",
              "      }\n",
              "    </script>\n",
              "  </div>\n",
              "\n",
              "\n",
              "    <div id=\"df-060005e1-91a0-4015-8a98-1dc8c03cd17e\">\n",
              "      <button class=\"colab-df-quickchart\" onclick=\"quickchart('df-060005e1-91a0-4015-8a98-1dc8c03cd17e')\"\n",
              "                title=\"Suggest charts\"\n",
              "                style=\"display:none;\">\n",
              "\n",
              "<svg xmlns=\"http://www.w3.org/2000/svg\" height=\"24px\"viewBox=\"0 0 24 24\"\n",
              "     width=\"24px\">\n",
              "    <g>\n",
              "        <path d=\"M19 3H5c-1.1 0-2 .9-2 2v14c0 1.1.9 2 2 2h14c1.1 0 2-.9 2-2V5c0-1.1-.9-2-2-2zM9 17H7v-7h2v7zm4 0h-2V7h2v10zm4 0h-2v-4h2v4z\"/>\n",
              "    </g>\n",
              "</svg>\n",
              "      </button>\n",
              "\n",
              "<style>\n",
              "  .colab-df-quickchart {\n",
              "      --bg-color: #E8F0FE;\n",
              "      --fill-color: #1967D2;\n",
              "      --hover-bg-color: #E2EBFA;\n",
              "      --hover-fill-color: #174EA6;\n",
              "      --disabled-fill-color: #AAA;\n",
              "      --disabled-bg-color: #DDD;\n",
              "  }\n",
              "\n",
              "  [theme=dark] .colab-df-quickchart {\n",
              "      --bg-color: #3B4455;\n",
              "      --fill-color: #D2E3FC;\n",
              "      --hover-bg-color: #434B5C;\n",
              "      --hover-fill-color: #FFFFFF;\n",
              "      --disabled-bg-color: #3B4455;\n",
              "      --disabled-fill-color: #666;\n",
              "  }\n",
              "\n",
              "  .colab-df-quickchart {\n",
              "    background-color: var(--bg-color);\n",
              "    border: none;\n",
              "    border-radius: 50%;\n",
              "    cursor: pointer;\n",
              "    display: none;\n",
              "    fill: var(--fill-color);\n",
              "    height: 32px;\n",
              "    padding: 0;\n",
              "    width: 32px;\n",
              "  }\n",
              "\n",
              "  .colab-df-quickchart:hover {\n",
              "    background-color: var(--hover-bg-color);\n",
              "    box-shadow: 0 1px 2px rgba(60, 64, 67, 0.3), 0 1px 3px 1px rgba(60, 64, 67, 0.15);\n",
              "    fill: var(--button-hover-fill-color);\n",
              "  }\n",
              "\n",
              "  .colab-df-quickchart-complete:disabled,\n",
              "  .colab-df-quickchart-complete:disabled:hover {\n",
              "    background-color: var(--disabled-bg-color);\n",
              "    fill: var(--disabled-fill-color);\n",
              "    box-shadow: none;\n",
              "  }\n",
              "\n",
              "  .colab-df-spinner {\n",
              "    border: 2px solid var(--fill-color);\n",
              "    border-color: transparent;\n",
              "    border-bottom-color: var(--fill-color);\n",
              "    animation:\n",
              "      spin 1s steps(1) infinite;\n",
              "  }\n",
              "\n",
              "  @keyframes spin {\n",
              "    0% {\n",
              "      border-color: transparent;\n",
              "      border-bottom-color: var(--fill-color);\n",
              "      border-left-color: var(--fill-color);\n",
              "    }\n",
              "    20% {\n",
              "      border-color: transparent;\n",
              "      border-left-color: var(--fill-color);\n",
              "      border-top-color: var(--fill-color);\n",
              "    }\n",
              "    30% {\n",
              "      border-color: transparent;\n",
              "      border-left-color: var(--fill-color);\n",
              "      border-top-color: var(--fill-color);\n",
              "      border-right-color: var(--fill-color);\n",
              "    }\n",
              "    40% {\n",
              "      border-color: transparent;\n",
              "      border-right-color: var(--fill-color);\n",
              "      border-top-color: var(--fill-color);\n",
              "    }\n",
              "    60% {\n",
              "      border-color: transparent;\n",
              "      border-right-color: var(--fill-color);\n",
              "    }\n",
              "    80% {\n",
              "      border-color: transparent;\n",
              "      border-right-color: var(--fill-color);\n",
              "      border-bottom-color: var(--fill-color);\n",
              "    }\n",
              "    90% {\n",
              "      border-color: transparent;\n",
              "      border-bottom-color: var(--fill-color);\n",
              "    }\n",
              "  }\n",
              "</style>\n",
              "\n",
              "      <script>\n",
              "        async function quickchart(key) {\n",
              "          const quickchartButtonEl =\n",
              "            document.querySelector('#' + key + ' button');\n",
              "          quickchartButtonEl.disabled = true;  // To prevent multiple clicks.\n",
              "          quickchartButtonEl.classList.add('colab-df-spinner');\n",
              "          try {\n",
              "            const charts = await google.colab.kernel.invokeFunction(\n",
              "                'suggestCharts', [key], {});\n",
              "          } catch (error) {\n",
              "            console.error('Error during call to suggestCharts:', error);\n",
              "          }\n",
              "          quickchartButtonEl.classList.remove('colab-df-spinner');\n",
              "          quickchartButtonEl.classList.add('colab-df-quickchart-complete');\n",
              "        }\n",
              "        (() => {\n",
              "          let quickchartButtonEl =\n",
              "            document.querySelector('#df-060005e1-91a0-4015-8a98-1dc8c03cd17e button');\n",
              "          quickchartButtonEl.style.display =\n",
              "            google.colab.kernel.accessAllowed ? 'block' : 'none';\n",
              "        })();\n",
              "      </script>\n",
              "    </div>\n",
              "\n",
              "    </div>\n",
              "  </div>\n"
            ],
            "text/plain": [
              "                         Job Title  \\\n",
              "1541831           Data Entry Clerk   \n",
              "1423110           Network Engineer   \n",
              "788976         Structural Engineer   \n",
              "233945                  QA Analyst   \n",
              "626013   Family Nurse Practitioner   \n",
              "\n",
              "                                           Job Description  \\\n",
              "1541831  An Administrative Assistant provides administr...   \n",
              "1423110  Wireless Network Engineers design, implement, ...   \n",
              "788976   A Design Engineer creates and develops product...   \n",
              "233945   Performance Testing Specialists assess the per...   \n",
              "626013   Geriatric Nurse Practitioners focus on the hea...   \n",
              "\n",
              "                                                    skills  \\\n",
              "1541831  Office management Administrative tasks Communi...   \n",
              "1423110  Wireless network design and architecture Wi-Fi...   \n",
              "788976   Engineering design CAD software proficiency Pr...   \n",
              "233945   Performance testing Load testing Stress testin...   \n",
              "626013   Geriatric healthcare Geriatric assessment Geri...   \n",
              "\n",
              "                                          Responsibilities Qualifications  \\\n",
              "1541831  Provide administrative support, such as managi...            PhD   \n",
              "1423110  Design, configure, and optimize wireless netwo...            BCA   \n",
              "788976   Design structural systems and components for b...            MCA   \n",
              "233945   Focus on performance and load testing to asses...         B.Tech   \n",
              "626013   Focus on elderly patient care, addressing age-...             BA   \n",
              "\n",
              "             location  Work Type  \n",
              "1541831        Monaco  Temporary  \n",
              "1423110        Madrid  Full-Time  \n",
              "788976   San Salvador  Part-Time  \n",
              "233945         Niamey  Temporary  \n",
              "626013        Bangkok  Part-Time  "
            ]
          },
          "execution_count": 141,
          "metadata": {},
          "output_type": "execute_result"
        }
      ],
      "source": [
        "df_clean.head()"
      ]
    },
    {
      "cell_type": "markdown",
      "metadata": {
        "id": "ntLOvmcBvt_W"
      },
      "source": [
        "# Modeling"
      ]
    },
    {
      "cell_type": "code",
      "execution_count": 117,
      "metadata": {
        "id": "MboI9wbr8bOD"
      },
      "outputs": [],
      "source": [
        "df_modeling = df_clean.copy()"
      ]
    },
    {
      "cell_type": "markdown",
      "metadata": {
        "id": "Bi0eXWP48X6t"
      },
      "source": [
        "## Data  Preprosessing"
      ]
    },
    {
      "cell_type": "code",
      "execution_count": 118,
      "metadata": {
        "id": "Vr1945eO-srj"
      },
      "outputs": [],
      "source": [
        "df_modeling = df_modeling.reset_index(drop=True)"
      ]
    },
    {
      "cell_type": "code",
      "execution_count": 142,
      "metadata": {
        "id": "pNX2or-nvvLS"
      },
      "outputs": [],
      "source": [
        "df_modeling['combined_text'] = (\n",
        "  df_modeling['skills'] + ' ' +\n",
        "  df_modeling['Job Description'] + ' ' +\n",
        "  df_modeling['Responsibilities'] + ' ' +\n",
        "  df_modeling['Qualifications'] + ' ' +\n",
        "  df_modeling['location'] + ' ' +\n",
        "  df_modeling['Work Type']\n",
        ")"
      ]
    },
    {
      "cell_type": "code",
      "execution_count": 143,
      "metadata": {
        "id": "0OrvbjegAcwU"
      },
      "outputs": [],
      "source": [
        "def clean_text(text):\n",
        "  text = text.lower()\n",
        "  text = re.sub(r'\\d+', '', text)  # hapus angka\n",
        "  text = re.sub(r'[^\\w\\s]', '', text)  # hapus tanda baca\n",
        "  return text\n",
        "\n",
        "df_modeling['combined_text'] = df_modeling['combined_text'].apply(clean_text)"
      ]
    },
    {
      "cell_type": "markdown",
      "metadata": {
        "id": "t1G3fFxj8itL"
      },
      "source": [
        "Ingin prediksi `Work Type`"
      ]
    },
    {
      "cell_type": "code",
      "execution_count": 121,
      "metadata": {
        "id": "8TIPCQaK8fjT"
      },
      "outputs": [],
      "source": [
        "label_encoder = LabelEncoder()\n",
        "df_modeling['Work Type Encoded'] = label_encoder.fit_transform(df_modeling['Work Type'])"
      ]
    },
    {
      "cell_type": "markdown",
      "metadata": {
        "id": "rzF0qr5c8o1A"
      },
      "source": [
        "## Content Based Filtering"
      ]
    },
    {
      "cell_type": "code",
      "execution_count": 144,
      "metadata": {
        "id": "pr8kLd_O8rVu"
      },
      "outputs": [],
      "source": [
        "# TF-IDF Vectirization\n",
        "tfidf = TfidfVectorizer(stop_words='english', max_features=10000)\n",
        "tfidf_matrix = tfidf.fit_transform(df_modeling['combined_text'])"
      ]
    },
    {
      "cell_type": "code",
      "execution_count": 123,
      "metadata": {
        "id": "IRTixq0a8wWt"
      },
      "outputs": [],
      "source": [
        "# Cosine Similarty\n",
        "cosine_sim = cosine_similarity(tfidf_matrix, tfidf_matrix)"
      ]
    },
    {
      "cell_type": "code",
      "execution_count": 145,
      "metadata": {
        "id": "OiFJDGdz_BsG"
      },
      "outputs": [],
      "source": [
        "# Lowercase untuk pencarian job title\n",
        "df_modeling['Job Title Lower'] = df_modeling['Job Title'].str.lower()\n",
        "\n",
        "# Mapping index berdasarkan job title lowercase\n",
        "indices = pd.Series(df_modeling.index, index=df_modeling['Job Title Lower']).drop_duplicates()"
      ]
    },
    {
      "cell_type": "code",
      "execution_count": 129,
      "metadata": {
        "id": "52IQsoJr80ht"
      },
      "outputs": [],
      "source": [
        "# Fungsi Rekomendasi\n",
        "# indices = pd.Series(df_modeling.index, index=df_modeling['Job Title']).drop_duplicates()\n",
        "def recommend_jobs(job_title, top_n=5):\n",
        "  # Cari job title yang mengandung kata kunci, dalam df_modeling\n",
        "  matches = df_modeling[df_modeling['Job Title'].str.lower().str.contains(job_title.lower())]\n",
        "\n",
        "  if matches.empty:\n",
        "    return \"Job Title tidak ditemukan.\"\n",
        "\n",
        "  # Ambil index posisi (0–9999) dari hasil match (bukan index asli dari dataset awal)\n",
        "  idx = matches.index[0]\n",
        "\n",
        "  # Hitung similarity terhadap semua job\n",
        "  sim_scores = list(enumerate(cosine_sim[idx]))\n",
        "  sim_scores = sorted(sim_scores, key=lambda x: x[1], reverse=True)\n",
        "\n",
        "  # Ambil top_n, skip dirinya sendiri (index ke-0)\n",
        "  sim_scores = sim_scores[1:top_n+1]\n",
        "  job_indices = [i[0] for i in sim_scores]\n",
        "  scores = [round(score * 100, 2) for _, score in sim_scores]\n",
        "\n",
        "  # Ambil data dari df_modeling\n",
        "  result = df_modeling.iloc[job_indices][['Job Title', 'location', 'Work Type']].copy()\n",
        "  result['Similarity (%)'] = scores\n",
        "\n",
        "  return result"
      ]
    },
    {
      "cell_type": "code",
      "execution_count": 127,
      "metadata": {
        "id": "HzvoIqVdBaJF"
      },
      "outputs": [],
      "source": [
        "df_modeling = df_modeling.reset_index(drop=True)"
      ]
    },
    {
      "cell_type": "code",
      "execution_count": 134,
      "metadata": {
        "colab": {
          "base_uri": "https://localhost:8080/",
          "height": 206
        },
        "id": "G35uz8Ns9_eG",
        "outputId": "8fd9890a-b70f-4956-e413-6596f1efe9b6"
      },
      "outputs": [
        {
          "data": {
            "application/vnd.google.colaboratory.intrinsic+json": {
              "summary": "{\n  \"name\": \"recommend_jobs('Software Engine')\",\n  \"rows\": 5,\n  \"fields\": [\n    {\n      \"column\": \"Job Title\",\n      \"properties\": {\n        \"dtype\": \"category\",\n        \"num_unique_values\": 1,\n        \"samples\": [\n          \"Software Engineer\"\n        ],\n        \"semantic_type\": \"\",\n        \"description\": \"\"\n      }\n    },\n    {\n      \"column\": \"location\",\n      \"properties\": {\n        \"dtype\": \"string\",\n        \"num_unique_values\": 4,\n        \"samples\": [\n          \"Harare\"\n        ],\n        \"semantic_type\": \"\",\n        \"description\": \"\"\n      }\n    },\n    {\n      \"column\": \"Work Type\",\n      \"properties\": {\n        \"dtype\": \"string\",\n        \"num_unique_values\": 4,\n        \"samples\": [\n          \"Contract\"\n        ],\n        \"semantic_type\": \"\",\n        \"description\": \"\"\n      }\n    },\n    {\n      \"column\": \"Similarity (%)\",\n      \"properties\": {\n        \"dtype\": \"number\",\n        \"std\": 0.08642916174532793,\n        \"min\": 97.56,\n        \"max\": 97.77,\n        \"num_unique_values\": 5,\n        \"samples\": [\n          97.68\n        ],\n        \"semantic_type\": \"\",\n        \"description\": \"\"\n      }\n    }\n  ]\n}",
              "type": "dataframe"
            },
            "text/html": [
              "\n",
              "  <div id=\"df-cc7a7de1-4079-41b9-8db6-3b79f167f3f0\" class=\"colab-df-container\">\n",
              "    <div>\n",
              "<style scoped>\n",
              "    .dataframe tbody tr th:only-of-type {\n",
              "        vertical-align: middle;\n",
              "    }\n",
              "\n",
              "    .dataframe tbody tr th {\n",
              "        vertical-align: top;\n",
              "    }\n",
              "\n",
              "    .dataframe thead th {\n",
              "        text-align: right;\n",
              "    }\n",
              "</style>\n",
              "<table border=\"1\" class=\"dataframe\">\n",
              "  <thead>\n",
              "    <tr style=\"text-align: right;\">\n",
              "      <th></th>\n",
              "      <th>Job Title</th>\n",
              "      <th>location</th>\n",
              "      <th>Work Type</th>\n",
              "      <th>Similarity (%)</th>\n",
              "    </tr>\n",
              "  </thead>\n",
              "  <tbody>\n",
              "    <tr>\n",
              "      <th>4479</th>\n",
              "      <td>Software Engineer</td>\n",
              "      <td>Belgrade</td>\n",
              "      <td>Intern</td>\n",
              "      <td>97.77</td>\n",
              "    </tr>\n",
              "    <tr>\n",
              "      <th>4484</th>\n",
              "      <td>Software Engineer</td>\n",
              "      <td>Harare</td>\n",
              "      <td>Contract</td>\n",
              "      <td>97.68</td>\n",
              "    </tr>\n",
              "    <tr>\n",
              "      <th>2129</th>\n",
              "      <td>Software Engineer</td>\n",
              "      <td>Ankara</td>\n",
              "      <td>Temporary</td>\n",
              "      <td>97.63</td>\n",
              "    </tr>\n",
              "    <tr>\n",
              "      <th>9723</th>\n",
              "      <td>Software Engineer</td>\n",
              "      <td>Belgrade</td>\n",
              "      <td>Part-Time</td>\n",
              "      <td>97.57</td>\n",
              "    </tr>\n",
              "    <tr>\n",
              "      <th>5769</th>\n",
              "      <td>Software Engineer</td>\n",
              "      <td>Prague</td>\n",
              "      <td>Part-Time</td>\n",
              "      <td>97.56</td>\n",
              "    </tr>\n",
              "  </tbody>\n",
              "</table>\n",
              "</div>\n",
              "    <div class=\"colab-df-buttons\">\n",
              "\n",
              "  <div class=\"colab-df-container\">\n",
              "    <button class=\"colab-df-convert\" onclick=\"convertToInteractive('df-cc7a7de1-4079-41b9-8db6-3b79f167f3f0')\"\n",
              "            title=\"Convert this dataframe to an interactive table.\"\n",
              "            style=\"display:none;\">\n",
              "\n",
              "  <svg xmlns=\"http://www.w3.org/2000/svg\" height=\"24px\" viewBox=\"0 -960 960 960\">\n",
              "    <path d=\"M120-120v-720h720v720H120Zm60-500h600v-160H180v160Zm220 220h160v-160H400v160Zm0 220h160v-160H400v160ZM180-400h160v-160H180v160Zm440 0h160v-160H620v160ZM180-180h160v-160H180v160Zm440 0h160v-160H620v160Z\"/>\n",
              "  </svg>\n",
              "    </button>\n",
              "\n",
              "  <style>\n",
              "    .colab-df-container {\n",
              "      display:flex;\n",
              "      gap: 12px;\n",
              "    }\n",
              "\n",
              "    .colab-df-convert {\n",
              "      background-color: #E8F0FE;\n",
              "      border: none;\n",
              "      border-radius: 50%;\n",
              "      cursor: pointer;\n",
              "      display: none;\n",
              "      fill: #1967D2;\n",
              "      height: 32px;\n",
              "      padding: 0 0 0 0;\n",
              "      width: 32px;\n",
              "    }\n",
              "\n",
              "    .colab-df-convert:hover {\n",
              "      background-color: #E2EBFA;\n",
              "      box-shadow: 0px 1px 2px rgba(60, 64, 67, 0.3), 0px 1px 3px 1px rgba(60, 64, 67, 0.15);\n",
              "      fill: #174EA6;\n",
              "    }\n",
              "\n",
              "    .colab-df-buttons div {\n",
              "      margin-bottom: 4px;\n",
              "    }\n",
              "\n",
              "    [theme=dark] .colab-df-convert {\n",
              "      background-color: #3B4455;\n",
              "      fill: #D2E3FC;\n",
              "    }\n",
              "\n",
              "    [theme=dark] .colab-df-convert:hover {\n",
              "      background-color: #434B5C;\n",
              "      box-shadow: 0px 1px 3px 1px rgba(0, 0, 0, 0.15);\n",
              "      filter: drop-shadow(0px 1px 2px rgba(0, 0, 0, 0.3));\n",
              "      fill: #FFFFFF;\n",
              "    }\n",
              "  </style>\n",
              "\n",
              "    <script>\n",
              "      const buttonEl =\n",
              "        document.querySelector('#df-cc7a7de1-4079-41b9-8db6-3b79f167f3f0 button.colab-df-convert');\n",
              "      buttonEl.style.display =\n",
              "        google.colab.kernel.accessAllowed ? 'block' : 'none';\n",
              "\n",
              "      async function convertToInteractive(key) {\n",
              "        const element = document.querySelector('#df-cc7a7de1-4079-41b9-8db6-3b79f167f3f0');\n",
              "        const dataTable =\n",
              "          await google.colab.kernel.invokeFunction('convertToInteractive',\n",
              "                                                    [key], {});\n",
              "        if (!dataTable) return;\n",
              "\n",
              "        const docLinkHtml = 'Like what you see? Visit the ' +\n",
              "          '<a target=\"_blank\" href=https://colab.research.google.com/notebooks/data_table.ipynb>data table notebook</a>'\n",
              "          + ' to learn more about interactive tables.';\n",
              "        element.innerHTML = '';\n",
              "        dataTable['output_type'] = 'display_data';\n",
              "        await google.colab.output.renderOutput(dataTable, element);\n",
              "        const docLink = document.createElement('div');\n",
              "        docLink.innerHTML = docLinkHtml;\n",
              "        element.appendChild(docLink);\n",
              "      }\n",
              "    </script>\n",
              "  </div>\n",
              "\n",
              "\n",
              "    <div id=\"df-0aa6d8b8-c79f-40b4-b3c1-57b17884d6ca\">\n",
              "      <button class=\"colab-df-quickchart\" onclick=\"quickchart('df-0aa6d8b8-c79f-40b4-b3c1-57b17884d6ca')\"\n",
              "                title=\"Suggest charts\"\n",
              "                style=\"display:none;\">\n",
              "\n",
              "<svg xmlns=\"http://www.w3.org/2000/svg\" height=\"24px\"viewBox=\"0 0 24 24\"\n",
              "     width=\"24px\">\n",
              "    <g>\n",
              "        <path d=\"M19 3H5c-1.1 0-2 .9-2 2v14c0 1.1.9 2 2 2h14c1.1 0 2-.9 2-2V5c0-1.1-.9-2-2-2zM9 17H7v-7h2v7zm4 0h-2V7h2v10zm4 0h-2v-4h2v4z\"/>\n",
              "    </g>\n",
              "</svg>\n",
              "      </button>\n",
              "\n",
              "<style>\n",
              "  .colab-df-quickchart {\n",
              "      --bg-color: #E8F0FE;\n",
              "      --fill-color: #1967D2;\n",
              "      --hover-bg-color: #E2EBFA;\n",
              "      --hover-fill-color: #174EA6;\n",
              "      --disabled-fill-color: #AAA;\n",
              "      --disabled-bg-color: #DDD;\n",
              "  }\n",
              "\n",
              "  [theme=dark] .colab-df-quickchart {\n",
              "      --bg-color: #3B4455;\n",
              "      --fill-color: #D2E3FC;\n",
              "      --hover-bg-color: #434B5C;\n",
              "      --hover-fill-color: #FFFFFF;\n",
              "      --disabled-bg-color: #3B4455;\n",
              "      --disabled-fill-color: #666;\n",
              "  }\n",
              "\n",
              "  .colab-df-quickchart {\n",
              "    background-color: var(--bg-color);\n",
              "    border: none;\n",
              "    border-radius: 50%;\n",
              "    cursor: pointer;\n",
              "    display: none;\n",
              "    fill: var(--fill-color);\n",
              "    height: 32px;\n",
              "    padding: 0;\n",
              "    width: 32px;\n",
              "  }\n",
              "\n",
              "  .colab-df-quickchart:hover {\n",
              "    background-color: var(--hover-bg-color);\n",
              "    box-shadow: 0 1px 2px rgba(60, 64, 67, 0.3), 0 1px 3px 1px rgba(60, 64, 67, 0.15);\n",
              "    fill: var(--button-hover-fill-color);\n",
              "  }\n",
              "\n",
              "  .colab-df-quickchart-complete:disabled,\n",
              "  .colab-df-quickchart-complete:disabled:hover {\n",
              "    background-color: var(--disabled-bg-color);\n",
              "    fill: var(--disabled-fill-color);\n",
              "    box-shadow: none;\n",
              "  }\n",
              "\n",
              "  .colab-df-spinner {\n",
              "    border: 2px solid var(--fill-color);\n",
              "    border-color: transparent;\n",
              "    border-bottom-color: var(--fill-color);\n",
              "    animation:\n",
              "      spin 1s steps(1) infinite;\n",
              "  }\n",
              "\n",
              "  @keyframes spin {\n",
              "    0% {\n",
              "      border-color: transparent;\n",
              "      border-bottom-color: var(--fill-color);\n",
              "      border-left-color: var(--fill-color);\n",
              "    }\n",
              "    20% {\n",
              "      border-color: transparent;\n",
              "      border-left-color: var(--fill-color);\n",
              "      border-top-color: var(--fill-color);\n",
              "    }\n",
              "    30% {\n",
              "      border-color: transparent;\n",
              "      border-left-color: var(--fill-color);\n",
              "      border-top-color: var(--fill-color);\n",
              "      border-right-color: var(--fill-color);\n",
              "    }\n",
              "    40% {\n",
              "      border-color: transparent;\n",
              "      border-right-color: var(--fill-color);\n",
              "      border-top-color: var(--fill-color);\n",
              "    }\n",
              "    60% {\n",
              "      border-color: transparent;\n",
              "      border-right-color: var(--fill-color);\n",
              "    }\n",
              "    80% {\n",
              "      border-color: transparent;\n",
              "      border-right-color: var(--fill-color);\n",
              "      border-bottom-color: var(--fill-color);\n",
              "    }\n",
              "    90% {\n",
              "      border-color: transparent;\n",
              "      border-bottom-color: var(--fill-color);\n",
              "    }\n",
              "  }\n",
              "</style>\n",
              "\n",
              "      <script>\n",
              "        async function quickchart(key) {\n",
              "          const quickchartButtonEl =\n",
              "            document.querySelector('#' + key + ' button');\n",
              "          quickchartButtonEl.disabled = true;  // To prevent multiple clicks.\n",
              "          quickchartButtonEl.classList.add('colab-df-spinner');\n",
              "          try {\n",
              "            const charts = await google.colab.kernel.invokeFunction(\n",
              "                'suggestCharts', [key], {});\n",
              "          } catch (error) {\n",
              "            console.error('Error during call to suggestCharts:', error);\n",
              "          }\n",
              "          quickchartButtonEl.classList.remove('colab-df-spinner');\n",
              "          quickchartButtonEl.classList.add('colab-df-quickchart-complete');\n",
              "        }\n",
              "        (() => {\n",
              "          let quickchartButtonEl =\n",
              "            document.querySelector('#df-0aa6d8b8-c79f-40b4-b3c1-57b17884d6ca button');\n",
              "          quickchartButtonEl.style.display =\n",
              "            google.colab.kernel.accessAllowed ? 'block' : 'none';\n",
              "        })();\n",
              "      </script>\n",
              "    </div>\n",
              "\n",
              "    </div>\n",
              "  </div>\n"
            ],
            "text/plain": [
              "              Job Title  location  Work Type  Similarity (%)\n",
              "4479  Software Engineer  Belgrade     Intern           97.77\n",
              "4484  Software Engineer    Harare   Contract           97.68\n",
              "2129  Software Engineer    Ankara  Temporary           97.63\n",
              "9723  Software Engineer  Belgrade  Part-Time           97.57\n",
              "5769  Software Engineer    Prague  Part-Time           97.56"
            ]
          },
          "execution_count": 134,
          "metadata": {},
          "output_type": "execute_result"
        }
      ],
      "source": [
        "recommend_jobs('Software Engine')"
      ]
    },
    {
      "cell_type": "markdown",
      "metadata": {
        "id": "8LRMU83F87gL"
      },
      "source": [
        "## Klasifikasi Work Type Berdasarkan Konten"
      ]
    },
    {
      "cell_type": "code",
      "execution_count": 135,
      "metadata": {
        "id": "6hkXwuOA85m-"
      },
      "outputs": [],
      "source": [
        "# Train Test Split\n",
        "X = df_modeling['combined_text']\n",
        "y = df_modeling['Work Type Encoded']\n",
        "\n",
        "X_train, X_test, y_train, y_test = train_test_split(X, y, test_size=0.2, random_state=27)"
      ]
    },
    {
      "cell_type": "code",
      "execution_count": 138,
      "metadata": {
        "colab": {
          "base_uri": "https://localhost:8080/",
          "height": 156
        },
        "id": "u43OxpR19C5c",
        "outputId": "d249f43d-6336-440b-fdd4-57b0ba02ec7a"
      },
      "outputs": [
        {
          "data": {
            "text/html": [
              "<style>#sk-container-id-3 {\n",
              "  /* Definition of color scheme common for light and dark mode */\n",
              "  --sklearn-color-text: #000;\n",
              "  --sklearn-color-text-muted: #666;\n",
              "  --sklearn-color-line: gray;\n",
              "  /* Definition of color scheme for unfitted estimators */\n",
              "  --sklearn-color-unfitted-level-0: #fff5e6;\n",
              "  --sklearn-color-unfitted-level-1: #f6e4d2;\n",
              "  --sklearn-color-unfitted-level-2: #ffe0b3;\n",
              "  --sklearn-color-unfitted-level-3: chocolate;\n",
              "  /* Definition of color scheme for fitted estimators */\n",
              "  --sklearn-color-fitted-level-0: #f0f8ff;\n",
              "  --sklearn-color-fitted-level-1: #d4ebff;\n",
              "  --sklearn-color-fitted-level-2: #b3dbfd;\n",
              "  --sklearn-color-fitted-level-3: cornflowerblue;\n",
              "\n",
              "  /* Specific color for light theme */\n",
              "  --sklearn-color-text-on-default-background: var(--sg-text-color, var(--theme-code-foreground, var(--jp-content-font-color1, black)));\n",
              "  --sklearn-color-background: var(--sg-background-color, var(--theme-background, var(--jp-layout-color0, white)));\n",
              "  --sklearn-color-border-box: var(--sg-text-color, var(--theme-code-foreground, var(--jp-content-font-color1, black)));\n",
              "  --sklearn-color-icon: #696969;\n",
              "\n",
              "  @media (prefers-color-scheme: dark) {\n",
              "    /* Redefinition of color scheme for dark theme */\n",
              "    --sklearn-color-text-on-default-background: var(--sg-text-color, var(--theme-code-foreground, var(--jp-content-font-color1, white)));\n",
              "    --sklearn-color-background: var(--sg-background-color, var(--theme-background, var(--jp-layout-color0, #111)));\n",
              "    --sklearn-color-border-box: var(--sg-text-color, var(--theme-code-foreground, var(--jp-content-font-color1, white)));\n",
              "    --sklearn-color-icon: #878787;\n",
              "  }\n",
              "}\n",
              "\n",
              "#sk-container-id-3 {\n",
              "  color: var(--sklearn-color-text);\n",
              "}\n",
              "\n",
              "#sk-container-id-3 pre {\n",
              "  padding: 0;\n",
              "}\n",
              "\n",
              "#sk-container-id-3 input.sk-hidden--visually {\n",
              "  border: 0;\n",
              "  clip: rect(1px 1px 1px 1px);\n",
              "  clip: rect(1px, 1px, 1px, 1px);\n",
              "  height: 1px;\n",
              "  margin: -1px;\n",
              "  overflow: hidden;\n",
              "  padding: 0;\n",
              "  position: absolute;\n",
              "  width: 1px;\n",
              "}\n",
              "\n",
              "#sk-container-id-3 div.sk-dashed-wrapped {\n",
              "  border: 1px dashed var(--sklearn-color-line);\n",
              "  margin: 0 0.4em 0.5em 0.4em;\n",
              "  box-sizing: border-box;\n",
              "  padding-bottom: 0.4em;\n",
              "  background-color: var(--sklearn-color-background);\n",
              "}\n",
              "\n",
              "#sk-container-id-3 div.sk-container {\n",
              "  /* jupyter's `normalize.less` sets `[hidden] { display: none; }`\n",
              "     but bootstrap.min.css set `[hidden] { display: none !important; }`\n",
              "     so we also need the `!important` here to be able to override the\n",
              "     default hidden behavior on the sphinx rendered scikit-learn.org.\n",
              "     See: https://github.com/scikit-learn/scikit-learn/issues/21755 */\n",
              "  display: inline-block !important;\n",
              "  position: relative;\n",
              "}\n",
              "\n",
              "#sk-container-id-3 div.sk-text-repr-fallback {\n",
              "  display: none;\n",
              "}\n",
              "\n",
              "div.sk-parallel-item,\n",
              "div.sk-serial,\n",
              "div.sk-item {\n",
              "  /* draw centered vertical line to link estimators */\n",
              "  background-image: linear-gradient(var(--sklearn-color-text-on-default-background), var(--sklearn-color-text-on-default-background));\n",
              "  background-size: 2px 100%;\n",
              "  background-repeat: no-repeat;\n",
              "  background-position: center center;\n",
              "}\n",
              "\n",
              "/* Parallel-specific style estimator block */\n",
              "\n",
              "#sk-container-id-3 div.sk-parallel-item::after {\n",
              "  content: \"\";\n",
              "  width: 100%;\n",
              "  border-bottom: 2px solid var(--sklearn-color-text-on-default-background);\n",
              "  flex-grow: 1;\n",
              "}\n",
              "\n",
              "#sk-container-id-3 div.sk-parallel {\n",
              "  display: flex;\n",
              "  align-items: stretch;\n",
              "  justify-content: center;\n",
              "  background-color: var(--sklearn-color-background);\n",
              "  position: relative;\n",
              "}\n",
              "\n",
              "#sk-container-id-3 div.sk-parallel-item {\n",
              "  display: flex;\n",
              "  flex-direction: column;\n",
              "}\n",
              "\n",
              "#sk-container-id-3 div.sk-parallel-item:first-child::after {\n",
              "  align-self: flex-end;\n",
              "  width: 50%;\n",
              "}\n",
              "\n",
              "#sk-container-id-3 div.sk-parallel-item:last-child::after {\n",
              "  align-self: flex-start;\n",
              "  width: 50%;\n",
              "}\n",
              "\n",
              "#sk-container-id-3 div.sk-parallel-item:only-child::after {\n",
              "  width: 0;\n",
              "}\n",
              "\n",
              "/* Serial-specific style estimator block */\n",
              "\n",
              "#sk-container-id-3 div.sk-serial {\n",
              "  display: flex;\n",
              "  flex-direction: column;\n",
              "  align-items: center;\n",
              "  background-color: var(--sklearn-color-background);\n",
              "  padding-right: 1em;\n",
              "  padding-left: 1em;\n",
              "}\n",
              "\n",
              "\n",
              "/* Toggleable style: style used for estimator/Pipeline/ColumnTransformer box that is\n",
              "clickable and can be expanded/collapsed.\n",
              "- Pipeline and ColumnTransformer use this feature and define the default style\n",
              "- Estimators will overwrite some part of the style using the `sk-estimator` class\n",
              "*/\n",
              "\n",
              "/* Pipeline and ColumnTransformer style (default) */\n",
              "\n",
              "#sk-container-id-3 div.sk-toggleable {\n",
              "  /* Default theme specific background. It is overwritten whether we have a\n",
              "  specific estimator or a Pipeline/ColumnTransformer */\n",
              "  background-color: var(--sklearn-color-background);\n",
              "}\n",
              "\n",
              "/* Toggleable label */\n",
              "#sk-container-id-3 label.sk-toggleable__label {\n",
              "  cursor: pointer;\n",
              "  display: flex;\n",
              "  width: 100%;\n",
              "  margin-bottom: 0;\n",
              "  padding: 0.5em;\n",
              "  box-sizing: border-box;\n",
              "  text-align: center;\n",
              "  align-items: start;\n",
              "  justify-content: space-between;\n",
              "  gap: 0.5em;\n",
              "}\n",
              "\n",
              "#sk-container-id-3 label.sk-toggleable__label .caption {\n",
              "  font-size: 0.6rem;\n",
              "  font-weight: lighter;\n",
              "  color: var(--sklearn-color-text-muted);\n",
              "}\n",
              "\n",
              "#sk-container-id-3 label.sk-toggleable__label-arrow:before {\n",
              "  /* Arrow on the left of the label */\n",
              "  content: \"▸\";\n",
              "  float: left;\n",
              "  margin-right: 0.25em;\n",
              "  color: var(--sklearn-color-icon);\n",
              "}\n",
              "\n",
              "#sk-container-id-3 label.sk-toggleable__label-arrow:hover:before {\n",
              "  color: var(--sklearn-color-text);\n",
              "}\n",
              "\n",
              "/* Toggleable content - dropdown */\n",
              "\n",
              "#sk-container-id-3 div.sk-toggleable__content {\n",
              "  max-height: 0;\n",
              "  max-width: 0;\n",
              "  overflow: hidden;\n",
              "  text-align: left;\n",
              "  /* unfitted */\n",
              "  background-color: var(--sklearn-color-unfitted-level-0);\n",
              "}\n",
              "\n",
              "#sk-container-id-3 div.sk-toggleable__content.fitted {\n",
              "  /* fitted */\n",
              "  background-color: var(--sklearn-color-fitted-level-0);\n",
              "}\n",
              "\n",
              "#sk-container-id-3 div.sk-toggleable__content pre {\n",
              "  margin: 0.2em;\n",
              "  border-radius: 0.25em;\n",
              "  color: var(--sklearn-color-text);\n",
              "  /* unfitted */\n",
              "  background-color: var(--sklearn-color-unfitted-level-0);\n",
              "}\n",
              "\n",
              "#sk-container-id-3 div.sk-toggleable__content.fitted pre {\n",
              "  /* unfitted */\n",
              "  background-color: var(--sklearn-color-fitted-level-0);\n",
              "}\n",
              "\n",
              "#sk-container-id-3 input.sk-toggleable__control:checked~div.sk-toggleable__content {\n",
              "  /* Expand drop-down */\n",
              "  max-height: 200px;\n",
              "  max-width: 100%;\n",
              "  overflow: auto;\n",
              "}\n",
              "\n",
              "#sk-container-id-3 input.sk-toggleable__control:checked~label.sk-toggleable__label-arrow:before {\n",
              "  content: \"▾\";\n",
              "}\n",
              "\n",
              "/* Pipeline/ColumnTransformer-specific style */\n",
              "\n",
              "#sk-container-id-3 div.sk-label input.sk-toggleable__control:checked~label.sk-toggleable__label {\n",
              "  color: var(--sklearn-color-text);\n",
              "  background-color: var(--sklearn-color-unfitted-level-2);\n",
              "}\n",
              "\n",
              "#sk-container-id-3 div.sk-label.fitted input.sk-toggleable__control:checked~label.sk-toggleable__label {\n",
              "  background-color: var(--sklearn-color-fitted-level-2);\n",
              "}\n",
              "\n",
              "/* Estimator-specific style */\n",
              "\n",
              "/* Colorize estimator box */\n",
              "#sk-container-id-3 div.sk-estimator input.sk-toggleable__control:checked~label.sk-toggleable__label {\n",
              "  /* unfitted */\n",
              "  background-color: var(--sklearn-color-unfitted-level-2);\n",
              "}\n",
              "\n",
              "#sk-container-id-3 div.sk-estimator.fitted input.sk-toggleable__control:checked~label.sk-toggleable__label {\n",
              "  /* fitted */\n",
              "  background-color: var(--sklearn-color-fitted-level-2);\n",
              "}\n",
              "\n",
              "#sk-container-id-3 div.sk-label label.sk-toggleable__label,\n",
              "#sk-container-id-3 div.sk-label label {\n",
              "  /* The background is the default theme color */\n",
              "  color: var(--sklearn-color-text-on-default-background);\n",
              "}\n",
              "\n",
              "/* On hover, darken the color of the background */\n",
              "#sk-container-id-3 div.sk-label:hover label.sk-toggleable__label {\n",
              "  color: var(--sklearn-color-text);\n",
              "  background-color: var(--sklearn-color-unfitted-level-2);\n",
              "}\n",
              "\n",
              "/* Label box, darken color on hover, fitted */\n",
              "#sk-container-id-3 div.sk-label.fitted:hover label.sk-toggleable__label.fitted {\n",
              "  color: var(--sklearn-color-text);\n",
              "  background-color: var(--sklearn-color-fitted-level-2);\n",
              "}\n",
              "\n",
              "/* Estimator label */\n",
              "\n",
              "#sk-container-id-3 div.sk-label label {\n",
              "  font-family: monospace;\n",
              "  font-weight: bold;\n",
              "  display: inline-block;\n",
              "  line-height: 1.2em;\n",
              "}\n",
              "\n",
              "#sk-container-id-3 div.sk-label-container {\n",
              "  text-align: center;\n",
              "}\n",
              "\n",
              "/* Estimator-specific */\n",
              "#sk-container-id-3 div.sk-estimator {\n",
              "  font-family: monospace;\n",
              "  border: 1px dotted var(--sklearn-color-border-box);\n",
              "  border-radius: 0.25em;\n",
              "  box-sizing: border-box;\n",
              "  margin-bottom: 0.5em;\n",
              "  /* unfitted */\n",
              "  background-color: var(--sklearn-color-unfitted-level-0);\n",
              "}\n",
              "\n",
              "#sk-container-id-3 div.sk-estimator.fitted {\n",
              "  /* fitted */\n",
              "  background-color: var(--sklearn-color-fitted-level-0);\n",
              "}\n",
              "\n",
              "/* on hover */\n",
              "#sk-container-id-3 div.sk-estimator:hover {\n",
              "  /* unfitted */\n",
              "  background-color: var(--sklearn-color-unfitted-level-2);\n",
              "}\n",
              "\n",
              "#sk-container-id-3 div.sk-estimator.fitted:hover {\n",
              "  /* fitted */\n",
              "  background-color: var(--sklearn-color-fitted-level-2);\n",
              "}\n",
              "\n",
              "/* Specification for estimator info (e.g. \"i\" and \"?\") */\n",
              "\n",
              "/* Common style for \"i\" and \"?\" */\n",
              "\n",
              ".sk-estimator-doc-link,\n",
              "a:link.sk-estimator-doc-link,\n",
              "a:visited.sk-estimator-doc-link {\n",
              "  float: right;\n",
              "  font-size: smaller;\n",
              "  line-height: 1em;\n",
              "  font-family: monospace;\n",
              "  background-color: var(--sklearn-color-background);\n",
              "  border-radius: 1em;\n",
              "  height: 1em;\n",
              "  width: 1em;\n",
              "  text-decoration: none !important;\n",
              "  margin-left: 0.5em;\n",
              "  text-align: center;\n",
              "  /* unfitted */\n",
              "  border: var(--sklearn-color-unfitted-level-1) 1pt solid;\n",
              "  color: var(--sklearn-color-unfitted-level-1);\n",
              "}\n",
              "\n",
              ".sk-estimator-doc-link.fitted,\n",
              "a:link.sk-estimator-doc-link.fitted,\n",
              "a:visited.sk-estimator-doc-link.fitted {\n",
              "  /* fitted */\n",
              "  border: var(--sklearn-color-fitted-level-1) 1pt solid;\n",
              "  color: var(--sklearn-color-fitted-level-1);\n",
              "}\n",
              "\n",
              "/* On hover */\n",
              "div.sk-estimator:hover .sk-estimator-doc-link:hover,\n",
              ".sk-estimator-doc-link:hover,\n",
              "div.sk-label-container:hover .sk-estimator-doc-link:hover,\n",
              ".sk-estimator-doc-link:hover {\n",
              "  /* unfitted */\n",
              "  background-color: var(--sklearn-color-unfitted-level-3);\n",
              "  color: var(--sklearn-color-background);\n",
              "  text-decoration: none;\n",
              "}\n",
              "\n",
              "div.sk-estimator.fitted:hover .sk-estimator-doc-link.fitted:hover,\n",
              ".sk-estimator-doc-link.fitted:hover,\n",
              "div.sk-label-container:hover .sk-estimator-doc-link.fitted:hover,\n",
              ".sk-estimator-doc-link.fitted:hover {\n",
              "  /* fitted */\n",
              "  background-color: var(--sklearn-color-fitted-level-3);\n",
              "  color: var(--sklearn-color-background);\n",
              "  text-decoration: none;\n",
              "}\n",
              "\n",
              "/* Span, style for the box shown on hovering the info icon */\n",
              ".sk-estimator-doc-link span {\n",
              "  display: none;\n",
              "  z-index: 9999;\n",
              "  position: relative;\n",
              "  font-weight: normal;\n",
              "  right: .2ex;\n",
              "  padding: .5ex;\n",
              "  margin: .5ex;\n",
              "  width: min-content;\n",
              "  min-width: 20ex;\n",
              "  max-width: 50ex;\n",
              "  color: var(--sklearn-color-text);\n",
              "  box-shadow: 2pt 2pt 4pt #999;\n",
              "  /* unfitted */\n",
              "  background: var(--sklearn-color-unfitted-level-0);\n",
              "  border: .5pt solid var(--sklearn-color-unfitted-level-3);\n",
              "}\n",
              "\n",
              ".sk-estimator-doc-link.fitted span {\n",
              "  /* fitted */\n",
              "  background: var(--sklearn-color-fitted-level-0);\n",
              "  border: var(--sklearn-color-fitted-level-3);\n",
              "}\n",
              "\n",
              ".sk-estimator-doc-link:hover span {\n",
              "  display: block;\n",
              "}\n",
              "\n",
              "/* \"?\"-specific style due to the `<a>` HTML tag */\n",
              "\n",
              "#sk-container-id-3 a.estimator_doc_link {\n",
              "  float: right;\n",
              "  font-size: 1rem;\n",
              "  line-height: 1em;\n",
              "  font-family: monospace;\n",
              "  background-color: var(--sklearn-color-background);\n",
              "  border-radius: 1rem;\n",
              "  height: 1rem;\n",
              "  width: 1rem;\n",
              "  text-decoration: none;\n",
              "  /* unfitted */\n",
              "  color: var(--sklearn-color-unfitted-level-1);\n",
              "  border: var(--sklearn-color-unfitted-level-1) 1pt solid;\n",
              "}\n",
              "\n",
              "#sk-container-id-3 a.estimator_doc_link.fitted {\n",
              "  /* fitted */\n",
              "  border: var(--sklearn-color-fitted-level-1) 1pt solid;\n",
              "  color: var(--sklearn-color-fitted-level-1);\n",
              "}\n",
              "\n",
              "/* On hover */\n",
              "#sk-container-id-3 a.estimator_doc_link:hover {\n",
              "  /* unfitted */\n",
              "  background-color: var(--sklearn-color-unfitted-level-3);\n",
              "  color: var(--sklearn-color-background);\n",
              "  text-decoration: none;\n",
              "}\n",
              "\n",
              "#sk-container-id-3 a.estimator_doc_link.fitted:hover {\n",
              "  /* fitted */\n",
              "  background-color: var(--sklearn-color-fitted-level-3);\n",
              "}\n",
              "</style><div id=\"sk-container-id-3\" class=\"sk-top-container\"><div class=\"sk-text-repr-fallback\"><pre>Pipeline(steps=[(&#x27;tfidf&#x27;,\n",
              "                 TfidfVectorizer(max_features=10000, stop_words=&#x27;english&#x27;)),\n",
              "                (&#x27;clf&#x27;,\n",
              "                 RandomForestClassifier(n_estimators=50, random_state=27))])</pre><b>In a Jupyter environment, please rerun this cell to show the HTML representation or trust the notebook. <br />On GitHub, the HTML representation is unable to render, please try loading this page with nbviewer.org.</b></div><div class=\"sk-container\" hidden><div class=\"sk-item sk-dashed-wrapped\"><div class=\"sk-label-container\"><div class=\"sk-label fitted sk-toggleable\"><input class=\"sk-toggleable__control sk-hidden--visually\" id=\"sk-estimator-id-7\" type=\"checkbox\" ><label for=\"sk-estimator-id-7\" class=\"sk-toggleable__label fitted sk-toggleable__label-arrow\"><div><div>Pipeline</div></div><div><a class=\"sk-estimator-doc-link fitted\" rel=\"noreferrer\" target=\"_blank\" href=\"https://scikit-learn.org/1.6/modules/generated/sklearn.pipeline.Pipeline.html\">?<span>Documentation for Pipeline</span></a><span class=\"sk-estimator-doc-link fitted\">i<span>Fitted</span></span></div></label><div class=\"sk-toggleable__content fitted\"><pre>Pipeline(steps=[(&#x27;tfidf&#x27;,\n",
              "                 TfidfVectorizer(max_features=10000, stop_words=&#x27;english&#x27;)),\n",
              "                (&#x27;clf&#x27;,\n",
              "                 RandomForestClassifier(n_estimators=50, random_state=27))])</pre></div> </div></div><div class=\"sk-serial\"><div class=\"sk-item\"><div class=\"sk-estimator fitted sk-toggleable\"><input class=\"sk-toggleable__control sk-hidden--visually\" id=\"sk-estimator-id-8\" type=\"checkbox\" ><label for=\"sk-estimator-id-8\" class=\"sk-toggleable__label fitted sk-toggleable__label-arrow\"><div><div>TfidfVectorizer</div></div><div><a class=\"sk-estimator-doc-link fitted\" rel=\"noreferrer\" target=\"_blank\" href=\"https://scikit-learn.org/1.6/modules/generated/sklearn.feature_extraction.text.TfidfVectorizer.html\">?<span>Documentation for TfidfVectorizer</span></a></div></label><div class=\"sk-toggleable__content fitted\"><pre>TfidfVectorizer(max_features=10000, stop_words=&#x27;english&#x27;)</pre></div> </div></div><div class=\"sk-item\"><div class=\"sk-estimator fitted sk-toggleable\"><input class=\"sk-toggleable__control sk-hidden--visually\" id=\"sk-estimator-id-9\" type=\"checkbox\" ><label for=\"sk-estimator-id-9\" class=\"sk-toggleable__label fitted sk-toggleable__label-arrow\"><div><div>RandomForestClassifier</div></div><div><a class=\"sk-estimator-doc-link fitted\" rel=\"noreferrer\" target=\"_blank\" href=\"https://scikit-learn.org/1.6/modules/generated/sklearn.ensemble.RandomForestClassifier.html\">?<span>Documentation for RandomForestClassifier</span></a></div></label><div class=\"sk-toggleable__content fitted\"><pre>RandomForestClassifier(n_estimators=50, random_state=27)</pre></div> </div></div></div></div></div></div>"
            ],
            "text/plain": [
              "Pipeline(steps=[('tfidf',\n",
              "                 TfidfVectorizer(max_features=10000, stop_words='english')),\n",
              "                ('clf',\n",
              "                 RandomForestClassifier(n_estimators=50, random_state=27))])"
            ]
          },
          "execution_count": 138,
          "metadata": {},
          "output_type": "execute_result"
        }
      ],
      "source": [
        "# Pipline Model\n",
        "clf_pipeline = Pipeline([\n",
        "  ('tfidf', TfidfVectorizer(stop_words='english', max_features=10000)),\n",
        "  ('clf', RandomForestClassifier(n_estimators=50, random_state=27))\n",
        "])\n",
        "\n",
        "clf_pipeline.fit(X_train, y_train)"
      ]
    },
    {
      "cell_type": "markdown",
      "metadata": {
        "id": "CMxdzi7Kvvbq"
      },
      "source": [
        "# Evaluation"
      ]
    },
    {
      "cell_type": "code",
      "execution_count": 140,
      "metadata": {
        "colab": {
          "base_uri": "https://localhost:8080/"
        },
        "id": "CEH7J5I_CaWT",
        "outputId": "356b8f97-58bc-4cd9-c89d-44815e7ecdd3"
      },
      "outputs": [
        {
          "name": "stdout",
          "output_type": "stream",
          "text": [
            "Accuracy: 0.9984977466199298\n",
            "Classification Report:\n",
            "               precision    recall  f1-score   support\n",
            "\n",
            "    Contract       1.00      1.00      1.00       432\n",
            "   Full-Time       0.99      1.00      1.00       398\n",
            "      Intern       1.00      1.00      1.00       409\n",
            "   Part-Time       1.00      1.00      1.00       365\n",
            "   Temporary       1.00      1.00      1.00       393\n",
            "\n",
            "    accuracy                           1.00      1997\n",
            "   macro avg       1.00      1.00      1.00      1997\n",
            "weighted avg       1.00      1.00      1.00      1997\n",
            "\n"
          ]
        }
      ],
      "source": [
        "y_pred = clf_pipeline.predict(X_test)\n",
        "\n",
        "print(\"Accuracy:\", accuracy_score(y_test, y_pred))\n",
        "print(\"Classification Report:\\n\", classification_report(y_test, y_pred, target_names=label_encoder.classes_))"
      ]
    },
    {
      "cell_type": "markdown",
      "metadata": {
        "id": "9kIjFGMRKoLz"
      },
      "source": [
        "Accuracy nya 99,85 -> pembulatan"
      ]
    },
    {
      "cell_type": "markdown",
      "metadata": {
        "id": "aoRUNzPeCmcD"
      },
      "source": [
        "# Summary Modeling Dan Evaluasi"
      ]
    },
    {
      "cell_type": "markdown",
      "metadata": {
        "id": "0nIrgszmD6tQ"
      },
      "source": [
        "#### 1. **Preprocessing dan Feature Engineering**\n",
        "\n",
        "* Menggabungkan kolom teks utama (`Job Title`, `Job Description`, `skills`, `Responsibilities`, `Qualifications`) menjadi satu kolom `combined_text`.\n",
        "* Menggunakan TF-IDF Vectorizer dengan `max_features=10000` dan stopwords bahasa Inggris untuk representasi teks.\n",
        "\n",
        "#### 2. **Content-Based Job Recommendation**\n",
        "\n",
        "* Menghitung cosine similarity antar job berdasarkan `combined_text`.\n",
        "* Fungsi rekomendasi menerima input `Job Title`, mencari posisi job tersebut dalam dataset, lalu merekomendasikan job dengan similarity tertinggi.\n",
        "* Contoh hasil rekomendasi untuk **\"Software Engineer\"** menunjukkan job-job dengan `Job Title` sama dari lokasi dan tipe kerja berbeda dengan similarity > 97%, menandakan rekomendasi relevan dan spesifik.\n",
        "\n",
        "| Job Title         | Location | Work Type | Similarity (%) |\n",
        "| ----------------- | -------- | --------- | -------------- |\n",
        "| Software Engineer | Belgrade | Intern    | 97.77          |\n",
        "| Software Engineer | Harare   | Contract  | 97.68          |\n",
        "| Software Engineer | Ankara   | Temporary | 97.63          |\n",
        "| Software Engineer | Belgrade | Part-Time | 97.57          |\n",
        "| Software Engineer | Prague   | Part-Time | 97.56          |\n",
        "\n",
        "---\n",
        "\n",
        "#### 3. **Work Type Classification**\n",
        "\n",
        "* Target: kolom `Work Type` yang sudah diencoding (`Work Type Encoded`).\n",
        "* Data dibagi train-test dengan perbandingan 80:20.\n",
        "* Pipeline model menggunakan:\n",
        "\n",
        "  * TF-IDF Vectorizer (stop\\_words='english', max\\_features=10000)\n",
        "  * Random Forest Classifier (50 estimator, random\\_state=27)\n",
        "* Model berhasil mencapai **akurasi sangat tinggi 99.85%** pada data testing.\n",
        "\n",
        "##### Metrics Classification Report (Test Set)\n",
        "\n",
        "| Class     | Precision | Recall | F1-score | Support |\n",
        "| --------- | --------- | ------ | -------- | ------- |\n",
        "| Contract  | 1.00      | 1.00   | 1.00     | 432     |\n",
        "| Full-Time | 0.99      | 1.00   | 1.00     | 398     |\n",
        "| Intern    | 1.00      | 1.00   | 1.00     | 409     |\n",
        "| Part-Time | 1.00      | 1.00   | 1.00     | 365     |\n",
        "| Temporary | 1.00      | 1.00   | 1.00     | 393     |\n",
        "\n",
        "* **Overall Accuracy:** 99.85%\n",
        "* Model menunjukkan performa sangat baik untuk klasifikasi jenis pekerjaan berdasarkan teks deskriptif.\n",
        "\n",
        "---\n",
        "\n",
        "### **Kesimpulan:**\n",
        "\n",
        "* **Content-Based Filtering** dengan TF-IDF dan cosine similarity efektif memberikan rekomendasi pekerjaan yang sangat relevan berdasarkan kemiripan deskripsi pekerjaan.\n",
        "* **Random Forest dengan TF-IDF** mampu mengklasifikasi tipe pekerjaan (`Work Type`) dengan akurasi hampir sempurna, menandakan fitur teks sudah sangat representatif.\n",
        "* Kombinasi kedua metode ini bisa diaplikasikan untuk sistem rekomendasi karir sekaligus prediksi jenis kontrak kerja dari deskripsi job posting.\n",
        "\n",
        "---\n",
        "\n",
        "Kalau kamu mau, aku bisa bantu buat visualisasi evaluasi, tuning model, atau menambah fitur lain untuk improve sistemnya!\n"
      ]
    }
  ],
  "metadata": {
    "colab": {
      "provenance": [],
      "toc_visible": true
    },
    "kernelspec": {
      "display_name": "Python 3",
      "name": "python3"
    },
    "language_info": {
      "name": "python"
    }
  },
  "nbformat": 4,
  "nbformat_minor": 0
}
