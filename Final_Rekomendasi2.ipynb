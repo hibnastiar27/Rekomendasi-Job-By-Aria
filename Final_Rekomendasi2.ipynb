{
  "nbformat": 4,
  "nbformat_minor": 0,
  "metadata": {
    "colab": {
      "provenance": [],
      "toc_visible": true,
      "gpuType": "T4"
    },
    "kernelspec": {
      "name": "python3",
      "display_name": "Python 3"
    },
    "language_info": {
      "name": "python"
    },
    "accelerator": "GPU"
  },
  "cells": [
    {
      "cell_type": "markdown",
      "source": [
        "# Import"
      ],
      "metadata": {
        "id": "SVBRU8puvjiZ"
      }
    },
    {
      "cell_type": "code",
      "execution_count": 4,
      "metadata": {
        "colab": {
          "base_uri": "https://localhost:8080/"
        },
        "id": "G6M2hKnlszuF",
        "outputId": "d75703da-9d62-4d67-978c-42c26e979476"
      },
      "outputs": [
        {
          "output_type": "stream",
          "name": "stdout",
          "text": [
            "Requirement already satisfied: kagglehub[pandas-datasets] in /usr/local/lib/python3.11/dist-packages (0.3.12)\n",
            "Requirement already satisfied: packaging in /usr/local/lib/python3.11/dist-packages (from kagglehub[pandas-datasets]) (24.2)\n",
            "Requirement already satisfied: pyyaml in /usr/local/lib/python3.11/dist-packages (from kagglehub[pandas-datasets]) (6.0.2)\n",
            "Requirement already satisfied: requests in /usr/local/lib/python3.11/dist-packages (from kagglehub[pandas-datasets]) (2.32.3)\n",
            "Requirement already satisfied: tqdm in /usr/local/lib/python3.11/dist-packages (from kagglehub[pandas-datasets]) (4.67.1)\n",
            "Requirement already satisfied: pandas in /usr/local/lib/python3.11/dist-packages (from kagglehub[pandas-datasets]) (2.2.2)\n",
            "Requirement already satisfied: numpy>=1.23.2 in /usr/local/lib/python3.11/dist-packages (from pandas->kagglehub[pandas-datasets]) (2.0.2)\n",
            "Requirement already satisfied: python-dateutil>=2.8.2 in /usr/local/lib/python3.11/dist-packages (from pandas->kagglehub[pandas-datasets]) (2.9.0.post0)\n",
            "Requirement already satisfied: pytz>=2020.1 in /usr/local/lib/python3.11/dist-packages (from pandas->kagglehub[pandas-datasets]) (2025.2)\n",
            "Requirement already satisfied: tzdata>=2022.7 in /usr/local/lib/python3.11/dist-packages (from pandas->kagglehub[pandas-datasets]) (2025.2)\n",
            "Requirement already satisfied: charset-normalizer<4,>=2 in /usr/local/lib/python3.11/dist-packages (from requests->kagglehub[pandas-datasets]) (3.4.2)\n",
            "Requirement already satisfied: idna<4,>=2.5 in /usr/local/lib/python3.11/dist-packages (from requests->kagglehub[pandas-datasets]) (3.10)\n",
            "Requirement already satisfied: urllib3<3,>=1.21.1 in /usr/local/lib/python3.11/dist-packages (from requests->kagglehub[pandas-datasets]) (2.4.0)\n",
            "Requirement already satisfied: certifi>=2017.4.17 in /usr/local/lib/python3.11/dist-packages (from requests->kagglehub[pandas-datasets]) (2025.4.26)\n",
            "Requirement already satisfied: six>=1.5 in /usr/local/lib/python3.11/dist-packages (from python-dateutil>=2.8.2->pandas->kagglehub[pandas-datasets]) (1.17.0)\n"
          ]
        }
      ],
      "source": [
        "pip install kagglehub[pandas-datasets]"
      ]
    },
    {
      "cell_type": "code",
      "source": [
        "# Dasar\n",
        "import kagglehub\n",
        "from kagglehub import KaggleDatasetAdapter\n",
        "import pandas as pd\n",
        "import re\n",
        "\n",
        "# Modling Dan Evaluasi\n",
        "import pandas as pd\n",
        "import numpy as np\n",
        "from sklearn.feature_extraction.text import TfidfVectorizer\n",
        "from sklearn.metrics.pairwise import cosine_similarity\n",
        "from sklearn.model_selection import train_test_split\n",
        "from sklearn.pipeline import Pipeline\n",
        "from sklearn.preprocessing import LabelEncoder\n",
        "from sklearn.ensemble import RandomForestClassifier\n",
        "from sklearn.metrics import classification_report, accuracy_score"
      ],
      "metadata": {
        "id": "mmWXh8SIv-bv"
      },
      "execution_count": 5,
      "outputs": []
    },
    {
      "cell_type": "markdown",
      "source": [
        "# Load Data"
      ],
      "metadata": {
        "id": "C31FNYa6vmd9"
      }
    },
    {
      "cell_type": "code",
      "source": [
        "# Set the path to the file you'd like to load\n",
        "file_path = \"job_descriptions.csv\"\n",
        "\n",
        "# Load the latest version\n",
        "df = kagglehub.load_dataset(\n",
        "  KaggleDatasetAdapter.PANDAS,\n",
        "  \"ravindrasinghrana/job-description-dataset\",\n",
        "  file_path,\n",
        "  # Provide any additional arguments like\n",
        "  # sql_query or pandas_kwargs. See the\n",
        "  # documenation for more information:\n",
        "  # https://github.com/Kaggle/kagglehub/blob/main/README.md#kaggledatasetadapterpandas\n",
        ")"
      ],
      "metadata": {
        "colab": {
          "base_uri": "https://localhost:8080/"
        },
        "id": "aEXYzm4Jvod9",
        "outputId": "0beb7ce6-1cf8-481e-dbf8-923c73cc7dd7"
      },
      "execution_count": 6,
      "outputs": [
        {
          "output_type": "stream",
          "name": "stderr",
          "text": [
            "<ipython-input-6-8c4b047a5b8b>:5: DeprecationWarning: load_dataset is deprecated and will be removed in a future version.\n",
            "  df = kagglehub.load_dataset(\n"
          ]
        },
        {
          "output_type": "stream",
          "name": "stdout",
          "text": [
            "Downloading from https://www.kaggle.com/api/v1/datasets/download/ravindrasinghrana/job-description-dataset?dataset_version_number=1&file_name=job_descriptions.csv...\n"
          ]
        },
        {
          "output_type": "stream",
          "name": "stderr",
          "text": [
            "100%|██████████| 457M/457M [00:22<00:00, 21.3MB/s]"
          ]
        },
        {
          "output_type": "stream",
          "name": "stdout",
          "text": [
            "Extracting zip of job_descriptions.csv...\n"
          ]
        },
        {
          "output_type": "stream",
          "name": "stderr",
          "text": [
            "\n"
          ]
        }
      ]
    },
    {
      "cell_type": "markdown",
      "source": [
        "# EDA"
      ],
      "metadata": {
        "id": "i6M-nPA4vo1w"
      }
    },
    {
      "cell_type": "markdown",
      "source": [
        "Jumlah Keseluruhan Data"
      ],
      "metadata": {
        "id": "zcPU25XYwTw-"
      }
    },
    {
      "cell_type": "code",
      "source": [
        "df.info()"
      ],
      "metadata": {
        "colab": {
          "base_uri": "https://localhost:8080/"
        },
        "id": "3uyr0oKovsD4",
        "outputId": "dad35a50-d1d2-49e4-c829-19a1b1168040"
      },
      "execution_count": 7,
      "outputs": [
        {
          "output_type": "stream",
          "name": "stdout",
          "text": [
            "<class 'pandas.core.frame.DataFrame'>\n",
            "RangeIndex: 1615940 entries, 0 to 1615939\n",
            "Data columns (total 23 columns):\n",
            " #   Column            Non-Null Count    Dtype  \n",
            "---  ------            --------------    -----  \n",
            " 0   Job Id            1615940 non-null  int64  \n",
            " 1   Experience        1615940 non-null  object \n",
            " 2   Qualifications    1615940 non-null  object \n",
            " 3   Salary Range      1615940 non-null  object \n",
            " 4   location          1615940 non-null  object \n",
            " 5   Country           1615940 non-null  object \n",
            " 6   latitude          1615940 non-null  float64\n",
            " 7   longitude         1615940 non-null  float64\n",
            " 8   Work Type         1615940 non-null  object \n",
            " 9   Company Size      1615940 non-null  int64  \n",
            " 10  Job Posting Date  1615940 non-null  object \n",
            " 11  Preference        1615940 non-null  object \n",
            " 12  Contact Person    1615940 non-null  object \n",
            " 13  Contact           1615940 non-null  object \n",
            " 14  Job Title         1615940 non-null  object \n",
            " 15  Role              1615940 non-null  object \n",
            " 16  Job Portal        1615940 non-null  object \n",
            " 17  Job Description   1615940 non-null  object \n",
            " 18  Benefits          1615940 non-null  object \n",
            " 19  skills            1615940 non-null  object \n",
            " 20  Responsibilities  1615940 non-null  object \n",
            " 21  Company           1615940 non-null  object \n",
            " 22  Company Profile   1610462 non-null  object \n",
            "dtypes: float64(2), int64(2), object(19)\n",
            "memory usage: 283.6+ MB\n"
          ]
        }
      ]
    },
    {
      "cell_type": "markdown",
      "source": [
        "Fitur yang akan diolah\n",
        "\n",
        "1. Job Title\n",
        "2. Job Description\n",
        "3. skills\n",
        "4. Responsibilities\n",
        "5. Qualifications\n",
        "6. location\n",
        "7. Work Type"
      ],
      "metadata": {
        "id": "xcuDUOa3wXrK"
      }
    },
    {
      "cell_type": "markdown",
      "source": [
        "Kolom Unik"
      ],
      "metadata": {
        "id": "lPR9W-GUwbr1"
      }
    },
    {
      "cell_type": "code",
      "source": [
        "len(df['Job Title'].unique())"
      ],
      "metadata": {
        "colab": {
          "base_uri": "https://localhost:8080/"
        },
        "id": "PYRcIToOweYB",
        "outputId": "93715e7f-c0f2-46f8-a6f7-f795f4a2fbd8"
      },
      "execution_count": 8,
      "outputs": [
        {
          "output_type": "execute_result",
          "data": {
            "text/plain": [
              "147"
            ]
          },
          "metadata": {},
          "execution_count": 8
        }
      ]
    },
    {
      "cell_type": "code",
      "source": [
        "len(df['skills'].unique())"
      ],
      "metadata": {
        "colab": {
          "base_uri": "https://localhost:8080/"
        },
        "id": "1vb--4RI33TX",
        "outputId": "0af8e54a-c04c-413d-d2f5-1cfe1f57efc0"
      },
      "execution_count": 9,
      "outputs": [
        {
          "output_type": "execute_result",
          "data": {
            "text/plain": [
              "376"
            ]
          },
          "metadata": {},
          "execution_count": 9
        }
      ]
    },
    {
      "cell_type": "code",
      "source": [
        "print(df['Qualifications'].unique()) # Pendidikan\n",
        "print(len(df['Qualifications'].unique()))"
      ],
      "metadata": {
        "colab": {
          "base_uri": "https://localhost:8080/"
        },
        "id": "HVP0yWKr4Df3",
        "outputId": "e89576f0-e173-4f4f-c275-de55e4cafeae"
      },
      "execution_count": 10,
      "outputs": [
        {
          "output_type": "stream",
          "name": "stdout",
          "text": [
            "['M.Tech' 'BCA' 'PhD' 'MBA' 'MCA' 'M.Com' 'BBA' 'B.Tech' 'B.Com' 'BA']\n",
            "10\n"
          ]
        }
      ]
    },
    {
      "cell_type": "code",
      "source": [
        "# print(df['Responsibilities'].unique()) # Pengalaman\n",
        "print(len(df['Responsibilities'].unique()))"
      ],
      "metadata": {
        "colab": {
          "base_uri": "https://localhost:8080/"
        },
        "id": "ongmPWpH4Kxy",
        "outputId": "03f45558-1d29-4555-904e-ae5a33c82ac4"
      },
      "execution_count": 11,
      "outputs": [
        {
          "output_type": "stream",
          "name": "stdout",
          "text": [
            "375\n"
          ]
        }
      ]
    },
    {
      "cell_type": "code",
      "source": [
        "print(df['location'].unique()) # Lokasi\n",
        "print(len(df['location'].unique()))"
      ],
      "metadata": {
        "colab": {
          "base_uri": "https://localhost:8080/"
        },
        "id": "KGODYMQa4blO",
        "outputId": "9415511a-fe22-40f1-d2cf-3967e23e361b"
      },
      "execution_count": 12,
      "outputs": [
        {
          "output_type": "stream",
          "name": "stdout",
          "text": [
            "['Douglas' 'Ashgabat' 'Macao' 'Porto-Novo' 'Santiago' 'Brussels'\n",
            " 'George Town' 'SÃ£o TomÃ©' 'Male' \"Saint John's\" 'Manama'\n",
            " 'The City of Hamilton' 'Kingston' 'Banjul' 'Damascus' 'Sanaa'\n",
            " 'San Marino' 'Papeete' 'Seoul' 'Kinshasa' 'Baku' 'Funafuti' 'Asmara'\n",
            " 'Tegucigalpa' 'Road Town' 'Havana' 'Budapest' 'AsunciÃ³n' 'Amman' 'Abuja'\n",
            " 'Tripoli' 'Canberra' 'Noumea' 'Muscat' 'Gaza' 'Honiara' 'Yamoussoukro'\n",
            " 'Quito' 'Charlotte Amalie' 'Yaounde' 'Moroni' 'Madrid' 'Belmopan'\n",
            " 'Valletta' 'Panama City' 'Brazzaville' 'Cockburn Town' 'Phnom Penh'\n",
            " 'Monaco' 'Yerevan' 'Hagatna' 'Castries' 'New Delhi' 'Mogadishu'\n",
            " 'Islamabad' 'Bandar Seri Begawan' 'Roseau' 'London' 'Kabul' 'Ulaanbaatar'\n",
            " 'Bratislava' 'Rabat' 'Pretoria' 'Gaborone' 'Marigot' 'Riyadh' 'Dhaka'\n",
            " 'Kathmandu' 'Kuala Lumpur' 'Bishkek' 'Sri Jayawardenepura Kotte'\n",
            " 'Mexico City' 'Chisinau' 'Guatemala City' 'Moscow' 'Riga' 'Berlin'\n",
            " 'Djibouti (city)' 'Paramaribo' 'City of Port Louis' 'Bamako' 'San Jose'\n",
            " 'Jakarta' 'Suva' 'Kigali' 'Juba' 'Vientiane' 'San Juan' 'Tokyo'\n",
            " 'Sucre (de jure)' 'Manila' 'Luxembourg' 'Praia' 'Port Moresby' 'Dakar'\n",
            " 'Oslo' 'Maseru' 'Copenhagen' 'Kuwait City' 'Port Vila' 'Lusaka'\n",
            " 'Brasilia' 'Port of Spain' 'Kampala' 'City of Victoria' 'Prague' 'Bangui'\n",
            " 'Washington, D.C.' 'Montevideo' 'Antananarivo' 'Skopje' 'Port-au-Prince'\n",
            " 'Malabo (de jure),' 'Monrovia' 'Bridgetown' 'Tehran' 'Santo Domingo'\n",
            " 'Singapore' 'Lima' 'Conakry' 'Ngerulmud' 'Gibraltar' 'Victoria'\n",
            " 'City of Baghdad' 'Nairobi' 'Bucharest' 'Nicosia' 'Nouakchott'\n",
            " 'Amsterdam' 'Paris' 'Dili' 'Apia' \"N'Djamena\" 'Dublin' 'Accra' 'BogotÃ¡'\n",
            " 'Bangkok' 'Tashkent' 'Naypyidaw' 'Kingstown' 'Ouagadougou' 'Torshavn'\n",
            " 'Nuuk' 'Sarajevo' 'Nur-Sultan' 'Managua' 'Beijing' 'Vaduz' 'Warsaw'\n",
            " 'Bern' 'Buenos Aires' 'Mbabane' 'Dodoma' 'Caracas' 'Jerusalem' 'Thimphu'\n",
            " 'Harare' 'Andorra la Vella' 'Cairo' 'Basseterre' 'Lisbon' 'Khartoum'\n",
            " 'Ottawa' 'Wellington' 'Freetown' 'Bissau' 'Abu Dhabi' 'LomÃ©'\n",
            " 'Libreville' 'Sofia' 'ReykjavÃ\\xadk' 'Willemstad' 'Doha' 'Tunis'\n",
            " 'Addis Ababa' 'Palikir' 'Georgetown' 'Philipsburg' 'Nuku?alofa'\n",
            " 'San Salvador' 'Helsinki' 'Gitega' 'Rome' 'Niamey' 'Athens' 'Luanda'\n",
            " 'Oranjestad' 'Tallinn' \"Saint George's\" 'Tarawa' 'Vilnius' 'Minsk'\n",
            " 'Beirut' 'Zagreb' 'Maputo' 'Tbilisi' 'Dushanbe' 'Belgrade' 'Pristina'\n",
            " 'Windhoek' 'Yaren District (de facto)' 'Lilongwe' 'Podgorica' 'Algiers'\n",
            " 'Nassau' 'Stockholm' 'Vienna' 'Kyiv (also known as Kiev)' 'Tirana'\n",
            " 'Majuro' 'Capitol Hill, Saipan' 'Hanoi' 'Ankara' 'Ljubljana']\n",
            "214\n"
          ]
        }
      ]
    },
    {
      "cell_type": "code",
      "source": [
        "print(df['Work Type'].unique()) # Jenis Pekerjaan\n",
        "print(len(df['Work Type'].unique()))"
      ],
      "metadata": {
        "colab": {
          "base_uri": "https://localhost:8080/"
        },
        "id": "R3DLt6kE4ehs",
        "outputId": "1ff6fefd-04fb-4da3-e60d-cb6d8d9520ac"
      },
      "execution_count": 13,
      "outputs": [
        {
          "output_type": "stream",
          "name": "stdout",
          "text": [
            "['Intern' 'Temporary' 'Full-Time' 'Contract' 'Part-Time']\n",
            "5\n"
          ]
        }
      ]
    },
    {
      "cell_type": "markdown",
      "source": [
        "## Summary"
      ],
      "metadata": {
        "id": "SKYL4DjU4n0Y"
      }
    },
    {
      "cell_type": "markdown",
      "source": [
        "1. Total data ada 1juta lebih, tetapi yang akan digunakan hanya sample yaitu 10 ribu saja.\n",
        "2. yang akan digunakan ada 7 yaitu :\n",
        "  1. Job Title\n",
        "  2. Job Description\n",
        "  3. skills\n",
        "  4. Responsibilities\n",
        "  5. Qualifications\n",
        "  6. location\n",
        "  7. Work Type"
      ],
      "metadata": {
        "id": "CIUdv86b4qfb"
      }
    },
    {
      "cell_type": "markdown",
      "source": [
        "# Cleaning"
      ],
      "metadata": {
        "id": "p8xFZfcZvsiP"
      }
    },
    {
      "cell_type": "markdown",
      "source": [
        "- Filter hanya 7 fitur seperti yang di EDA\n",
        "- Hilangkan Null Jika ada\n",
        "- Hilangkan Duplikat jika ada\n",
        "- Buat jadi sample 10k data"
      ],
      "metadata": {
        "id": "AZlSJZ4Qwfkv"
      }
    },
    {
      "cell_type": "markdown",
      "source": [
        "Sampling dulu jadi 10k data"
      ],
      "metadata": {
        "id": "GM_hfMAbAzCu"
      }
    },
    {
      "cell_type": "code",
      "source": [
        "df_sample = df.sample(n=10000, random_state=27)\n",
        "df_sample.info()"
      ],
      "metadata": {
        "colab": {
          "base_uri": "https://localhost:8080/"
        },
        "id": "UWNkHzYdAvg3",
        "outputId": "0f982c1b-4fcc-4127-d9ec-8b02c32aed76"
      },
      "execution_count": 14,
      "outputs": [
        {
          "output_type": "stream",
          "name": "stdout",
          "text": [
            "<class 'pandas.core.frame.DataFrame'>\n",
            "Index: 10000 entries, 1541831 to 1559380\n",
            "Data columns (total 23 columns):\n",
            " #   Column            Non-Null Count  Dtype  \n",
            "---  ------            --------------  -----  \n",
            " 0   Job Id            10000 non-null  int64  \n",
            " 1   Experience        10000 non-null  object \n",
            " 2   Qualifications    10000 non-null  object \n",
            " 3   Salary Range      10000 non-null  object \n",
            " 4   location          10000 non-null  object \n",
            " 5   Country           10000 non-null  object \n",
            " 6   latitude          10000 non-null  float64\n",
            " 7   longitude         10000 non-null  float64\n",
            " 8   Work Type         10000 non-null  object \n",
            " 9   Company Size      10000 non-null  int64  \n",
            " 10  Job Posting Date  10000 non-null  object \n",
            " 11  Preference        10000 non-null  object \n",
            " 12  Contact Person    10000 non-null  object \n",
            " 13  Contact           10000 non-null  object \n",
            " 14  Job Title         10000 non-null  object \n",
            " 15  Role              10000 non-null  object \n",
            " 16  Job Portal        10000 non-null  object \n",
            " 17  Job Description   10000 non-null  object \n",
            " 18  Benefits          10000 non-null  object \n",
            " 19  skills            10000 non-null  object \n",
            " 20  Responsibilities  10000 non-null  object \n",
            " 21  Company           10000 non-null  object \n",
            " 22  Company Profile   9964 non-null   object \n",
            "dtypes: float64(2), int64(2), object(19)\n",
            "memory usage: 1.8+ MB\n"
          ]
        }
      ]
    },
    {
      "cell_type": "markdown",
      "source": [
        "7 Fitur"
      ],
      "metadata": {
        "id": "cu44Tpt46ecp"
      }
    },
    {
      "cell_type": "code",
      "source": [
        "df_clean = df_sample.copy()"
      ],
      "metadata": {
        "id": "VVIUGuTZvttj"
      },
      "execution_count": 15,
      "outputs": []
    },
    {
      "cell_type": "code",
      "source": [
        "df_clean = df_clean[['Job Title', 'Job Description', 'skills', 'Responsibilities', 'Qualifications', 'location', 'Work Type']]"
      ],
      "metadata": {
        "id": "63Tw3ujf5nDm"
      },
      "execution_count": 16,
      "outputs": []
    },
    {
      "cell_type": "code",
      "source": [
        "df_clean.info()"
      ],
      "metadata": {
        "colab": {
          "base_uri": "https://localhost:8080/"
        },
        "id": "19azQ1V65p6J",
        "outputId": "6369d24f-9a9a-47e6-9ee3-e41b79da5997"
      },
      "execution_count": 17,
      "outputs": [
        {
          "output_type": "stream",
          "name": "stdout",
          "text": [
            "<class 'pandas.core.frame.DataFrame'>\n",
            "Index: 10000 entries, 1541831 to 1559380\n",
            "Data columns (total 7 columns):\n",
            " #   Column            Non-Null Count  Dtype \n",
            "---  ------            --------------  ----- \n",
            " 0   Job Title         10000 non-null  object\n",
            " 1   Job Description   10000 non-null  object\n",
            " 2   skills            10000 non-null  object\n",
            " 3   Responsibilities  10000 non-null  object\n",
            " 4   Qualifications    10000 non-null  object\n",
            " 5   location          10000 non-null  object\n",
            " 6   Work Type         10000 non-null  object\n",
            "dtypes: object(7)\n",
            "memory usage: 625.0+ KB\n"
          ]
        }
      ]
    },
    {
      "cell_type": "markdown",
      "source": [
        "Hapus Duplikat"
      ],
      "metadata": {
        "id": "yinyW-fP6gA_"
      }
    },
    {
      "cell_type": "code",
      "source": [
        "df_clean.duplicated().sum()"
      ],
      "metadata": {
        "colab": {
          "base_uri": "https://localhost:8080/"
        },
        "id": "WcJR3e8y515y",
        "outputId": "8739b792-5da0-425c-c11a-0792ad7f398d"
      },
      "execution_count": 18,
      "outputs": [
        {
          "output_type": "execute_result",
          "data": {
            "text/plain": [
              "np.int64(19)"
            ]
          },
          "metadata": {},
          "execution_count": 18
        }
      ]
    },
    {
      "cell_type": "code",
      "source": [
        "df_clean = df_clean.drop_duplicates()\n",
        "df_clean.duplicated().sum()"
      ],
      "metadata": {
        "colab": {
          "base_uri": "https://localhost:8080/"
        },
        "id": "h9CzeX9i6E7X",
        "outputId": "47447146-c511-46c1-8d92-b6b1fcb1b96e"
      },
      "execution_count": 19,
      "outputs": [
        {
          "output_type": "execute_result",
          "data": {
            "text/plain": [
              "np.int64(0)"
            ]
          },
          "metadata": {},
          "execution_count": 19
        }
      ]
    },
    {
      "cell_type": "code",
      "source": [
        "df_clean.info()"
      ],
      "metadata": {
        "colab": {
          "base_uri": "https://localhost:8080/"
        },
        "id": "AuvjBsdy6NAi",
        "outputId": "97f14e00-1690-456a-8024-8b2779ca4433"
      },
      "execution_count": 20,
      "outputs": [
        {
          "output_type": "stream",
          "name": "stdout",
          "text": [
            "<class 'pandas.core.frame.DataFrame'>\n",
            "Index: 9981 entries, 1541831 to 1559380\n",
            "Data columns (total 7 columns):\n",
            " #   Column            Non-Null Count  Dtype \n",
            "---  ------            --------------  ----- \n",
            " 0   Job Title         9981 non-null   object\n",
            " 1   Job Description   9981 non-null   object\n",
            " 2   skills            9981 non-null   object\n",
            " 3   Responsibilities  9981 non-null   object\n",
            " 4   Qualifications    9981 non-null   object\n",
            " 5   location          9981 non-null   object\n",
            " 6   Work Type         9981 non-null   object\n",
            "dtypes: object(7)\n",
            "memory usage: 623.8+ KB\n"
          ]
        }
      ]
    },
    {
      "cell_type": "markdown",
      "source": [
        "Jika Null Hapus"
      ],
      "metadata": {
        "id": "D4l2kDwE6in3"
      }
    },
    {
      "cell_type": "code",
      "source": [
        "df_clean.isnull().sum()"
      ],
      "metadata": {
        "colab": {
          "base_uri": "https://localhost:8080/",
          "height": 303
        },
        "id": "rgZgqfm46CRH",
        "outputId": "d8678fd1-47e5-425e-b26b-bda0bf114d40"
      },
      "execution_count": 21,
      "outputs": [
        {
          "output_type": "execute_result",
          "data": {
            "text/plain": [
              "Job Title           0\n",
              "Job Description     0\n",
              "skills              0\n",
              "Responsibilities    0\n",
              "Qualifications      0\n",
              "location            0\n",
              "Work Type           0\n",
              "dtype: int64"
            ],
            "text/html": [
              "<div>\n",
              "<style scoped>\n",
              "    .dataframe tbody tr th:only-of-type {\n",
              "        vertical-align: middle;\n",
              "    }\n",
              "\n",
              "    .dataframe tbody tr th {\n",
              "        vertical-align: top;\n",
              "    }\n",
              "\n",
              "    .dataframe thead th {\n",
              "        text-align: right;\n",
              "    }\n",
              "</style>\n",
              "<table border=\"1\" class=\"dataframe\">\n",
              "  <thead>\n",
              "    <tr style=\"text-align: right;\">\n",
              "      <th></th>\n",
              "      <th>0</th>\n",
              "    </tr>\n",
              "  </thead>\n",
              "  <tbody>\n",
              "    <tr>\n",
              "      <th>Job Title</th>\n",
              "      <td>0</td>\n",
              "    </tr>\n",
              "    <tr>\n",
              "      <th>Job Description</th>\n",
              "      <td>0</td>\n",
              "    </tr>\n",
              "    <tr>\n",
              "      <th>skills</th>\n",
              "      <td>0</td>\n",
              "    </tr>\n",
              "    <tr>\n",
              "      <th>Responsibilities</th>\n",
              "      <td>0</td>\n",
              "    </tr>\n",
              "    <tr>\n",
              "      <th>Qualifications</th>\n",
              "      <td>0</td>\n",
              "    </tr>\n",
              "    <tr>\n",
              "      <th>location</th>\n",
              "      <td>0</td>\n",
              "    </tr>\n",
              "    <tr>\n",
              "      <th>Work Type</th>\n",
              "      <td>0</td>\n",
              "    </tr>\n",
              "  </tbody>\n",
              "</table>\n",
              "</div><br><label><b>dtype:</b> int64</label>"
            ]
          },
          "metadata": {},
          "execution_count": 21
        }
      ]
    },
    {
      "cell_type": "markdown",
      "source": [
        "## Sumary"
      ],
      "metadata": {
        "id": "eGgyFbhm7jx2"
      }
    },
    {
      "cell_type": "markdown",
      "source": [
        "1. 7 Fitur yang digunakan\n",
        "2. Terdapat Duplicate sebanyak (19) dan dihapus\n",
        "3. tidak ada data yang null"
      ],
      "metadata": {
        "id": "Eiz__CDk7lqq"
      }
    },
    {
      "cell_type": "code",
      "source": [
        "df_clean.head()"
      ],
      "metadata": {
        "colab": {
          "base_uri": "https://localhost:8080/",
          "height": 590
        },
        "id": "mqE4YYReHSYM",
        "outputId": "31f07c01-24e8-4498-cbc3-5ed741c3643e"
      },
      "execution_count": 22,
      "outputs": [
        {
          "output_type": "execute_result",
          "data": {
            "text/plain": [
              "                         Job Title  \\\n",
              "1541831           Data Entry Clerk   \n",
              "1423110           Network Engineer   \n",
              "788976         Structural Engineer   \n",
              "233945                  QA Analyst   \n",
              "626013   Family Nurse Practitioner   \n",
              "\n",
              "                                           Job Description  \\\n",
              "1541831  An Administrative Assistant provides administr...   \n",
              "1423110  Wireless Network Engineers design, implement, ...   \n",
              "788976   A Design Engineer creates and develops product...   \n",
              "233945   Performance Testing Specialists assess the per...   \n",
              "626013   Geriatric Nurse Practitioners focus on the hea...   \n",
              "\n",
              "                                                    skills  \\\n",
              "1541831  Office management Administrative tasks Communi...   \n",
              "1423110  Wireless network design and architecture Wi-Fi...   \n",
              "788976   Engineering design CAD software proficiency Pr...   \n",
              "233945   Performance testing Load testing Stress testin...   \n",
              "626013   Geriatric healthcare Geriatric assessment Geri...   \n",
              "\n",
              "                                          Responsibilities Qualifications  \\\n",
              "1541831  Provide administrative support, such as managi...            PhD   \n",
              "1423110  Design, configure, and optimize wireless netwo...            BCA   \n",
              "788976   Design structural systems and components for b...            MCA   \n",
              "233945   Focus on performance and load testing to asses...         B.Tech   \n",
              "626013   Focus on elderly patient care, addressing age-...             BA   \n",
              "\n",
              "             location  Work Type  \n",
              "1541831        Monaco  Temporary  \n",
              "1423110        Madrid  Full-Time  \n",
              "788976   San Salvador  Part-Time  \n",
              "233945         Niamey  Temporary  \n",
              "626013        Bangkok  Part-Time  "
            ],
            "text/html": [
              "\n",
              "  <div id=\"df-1d479d19-0a07-474b-bf11-5bd2ba7a72c5\" class=\"colab-df-container\">\n",
              "    <div>\n",
              "<style scoped>\n",
              "    .dataframe tbody tr th:only-of-type {\n",
              "        vertical-align: middle;\n",
              "    }\n",
              "\n",
              "    .dataframe tbody tr th {\n",
              "        vertical-align: top;\n",
              "    }\n",
              "\n",
              "    .dataframe thead th {\n",
              "        text-align: right;\n",
              "    }\n",
              "</style>\n",
              "<table border=\"1\" class=\"dataframe\">\n",
              "  <thead>\n",
              "    <tr style=\"text-align: right;\">\n",
              "      <th></th>\n",
              "      <th>Job Title</th>\n",
              "      <th>Job Description</th>\n",
              "      <th>skills</th>\n",
              "      <th>Responsibilities</th>\n",
              "      <th>Qualifications</th>\n",
              "      <th>location</th>\n",
              "      <th>Work Type</th>\n",
              "    </tr>\n",
              "  </thead>\n",
              "  <tbody>\n",
              "    <tr>\n",
              "      <th>1541831</th>\n",
              "      <td>Data Entry Clerk</td>\n",
              "      <td>An Administrative Assistant provides administr...</td>\n",
              "      <td>Office management Administrative tasks Communi...</td>\n",
              "      <td>Provide administrative support, such as managi...</td>\n",
              "      <td>PhD</td>\n",
              "      <td>Monaco</td>\n",
              "      <td>Temporary</td>\n",
              "    </tr>\n",
              "    <tr>\n",
              "      <th>1423110</th>\n",
              "      <td>Network Engineer</td>\n",
              "      <td>Wireless Network Engineers design, implement, ...</td>\n",
              "      <td>Wireless network design and architecture Wi-Fi...</td>\n",
              "      <td>Design, configure, and optimize wireless netwo...</td>\n",
              "      <td>BCA</td>\n",
              "      <td>Madrid</td>\n",
              "      <td>Full-Time</td>\n",
              "    </tr>\n",
              "    <tr>\n",
              "      <th>788976</th>\n",
              "      <td>Structural Engineer</td>\n",
              "      <td>A Design Engineer creates and develops product...</td>\n",
              "      <td>Engineering design CAD software proficiency Pr...</td>\n",
              "      <td>Design structural systems and components for b...</td>\n",
              "      <td>MCA</td>\n",
              "      <td>San Salvador</td>\n",
              "      <td>Part-Time</td>\n",
              "    </tr>\n",
              "    <tr>\n",
              "      <th>233945</th>\n",
              "      <td>QA Analyst</td>\n",
              "      <td>Performance Testing Specialists assess the per...</td>\n",
              "      <td>Performance testing Load testing Stress testin...</td>\n",
              "      <td>Focus on performance and load testing to asses...</td>\n",
              "      <td>B.Tech</td>\n",
              "      <td>Niamey</td>\n",
              "      <td>Temporary</td>\n",
              "    </tr>\n",
              "    <tr>\n",
              "      <th>626013</th>\n",
              "      <td>Family Nurse Practitioner</td>\n",
              "      <td>Geriatric Nurse Practitioners focus on the hea...</td>\n",
              "      <td>Geriatric healthcare Geriatric assessment Geri...</td>\n",
              "      <td>Focus on elderly patient care, addressing age-...</td>\n",
              "      <td>BA</td>\n",
              "      <td>Bangkok</td>\n",
              "      <td>Part-Time</td>\n",
              "    </tr>\n",
              "  </tbody>\n",
              "</table>\n",
              "</div>\n",
              "    <div class=\"colab-df-buttons\">\n",
              "\n",
              "  <div class=\"colab-df-container\">\n",
              "    <button class=\"colab-df-convert\" onclick=\"convertToInteractive('df-1d479d19-0a07-474b-bf11-5bd2ba7a72c5')\"\n",
              "            title=\"Convert this dataframe to an interactive table.\"\n",
              "            style=\"display:none;\">\n",
              "\n",
              "  <svg xmlns=\"http://www.w3.org/2000/svg\" height=\"24px\" viewBox=\"0 -960 960 960\">\n",
              "    <path d=\"M120-120v-720h720v720H120Zm60-500h600v-160H180v160Zm220 220h160v-160H400v160Zm0 220h160v-160H400v160ZM180-400h160v-160H180v160Zm440 0h160v-160H620v160ZM180-180h160v-160H180v160Zm440 0h160v-160H620v160Z\"/>\n",
              "  </svg>\n",
              "    </button>\n",
              "\n",
              "  <style>\n",
              "    .colab-df-container {\n",
              "      display:flex;\n",
              "      gap: 12px;\n",
              "    }\n",
              "\n",
              "    .colab-df-convert {\n",
              "      background-color: #E8F0FE;\n",
              "      border: none;\n",
              "      border-radius: 50%;\n",
              "      cursor: pointer;\n",
              "      display: none;\n",
              "      fill: #1967D2;\n",
              "      height: 32px;\n",
              "      padding: 0 0 0 0;\n",
              "      width: 32px;\n",
              "    }\n",
              "\n",
              "    .colab-df-convert:hover {\n",
              "      background-color: #E2EBFA;\n",
              "      box-shadow: 0px 1px 2px rgba(60, 64, 67, 0.3), 0px 1px 3px 1px rgba(60, 64, 67, 0.15);\n",
              "      fill: #174EA6;\n",
              "    }\n",
              "\n",
              "    .colab-df-buttons div {\n",
              "      margin-bottom: 4px;\n",
              "    }\n",
              "\n",
              "    [theme=dark] .colab-df-convert {\n",
              "      background-color: #3B4455;\n",
              "      fill: #D2E3FC;\n",
              "    }\n",
              "\n",
              "    [theme=dark] .colab-df-convert:hover {\n",
              "      background-color: #434B5C;\n",
              "      box-shadow: 0px 1px 3px 1px rgba(0, 0, 0, 0.15);\n",
              "      filter: drop-shadow(0px 1px 2px rgba(0, 0, 0, 0.3));\n",
              "      fill: #FFFFFF;\n",
              "    }\n",
              "  </style>\n",
              "\n",
              "    <script>\n",
              "      const buttonEl =\n",
              "        document.querySelector('#df-1d479d19-0a07-474b-bf11-5bd2ba7a72c5 button.colab-df-convert');\n",
              "      buttonEl.style.display =\n",
              "        google.colab.kernel.accessAllowed ? 'block' : 'none';\n",
              "\n",
              "      async function convertToInteractive(key) {\n",
              "        const element = document.querySelector('#df-1d479d19-0a07-474b-bf11-5bd2ba7a72c5');\n",
              "        const dataTable =\n",
              "          await google.colab.kernel.invokeFunction('convertToInteractive',\n",
              "                                                    [key], {});\n",
              "        if (!dataTable) return;\n",
              "\n",
              "        const docLinkHtml = 'Like what you see? Visit the ' +\n",
              "          '<a target=\"_blank\" href=https://colab.research.google.com/notebooks/data_table.ipynb>data table notebook</a>'\n",
              "          + ' to learn more about interactive tables.';\n",
              "        element.innerHTML = '';\n",
              "        dataTable['output_type'] = 'display_data';\n",
              "        await google.colab.output.renderOutput(dataTable, element);\n",
              "        const docLink = document.createElement('div');\n",
              "        docLink.innerHTML = docLinkHtml;\n",
              "        element.appendChild(docLink);\n",
              "      }\n",
              "    </script>\n",
              "  </div>\n",
              "\n",
              "\n",
              "    <div id=\"df-a53e7958-1b80-4138-812d-241055ad064d\">\n",
              "      <button class=\"colab-df-quickchart\" onclick=\"quickchart('df-a53e7958-1b80-4138-812d-241055ad064d')\"\n",
              "                title=\"Suggest charts\"\n",
              "                style=\"display:none;\">\n",
              "\n",
              "<svg xmlns=\"http://www.w3.org/2000/svg\" height=\"24px\"viewBox=\"0 0 24 24\"\n",
              "     width=\"24px\">\n",
              "    <g>\n",
              "        <path d=\"M19 3H5c-1.1 0-2 .9-2 2v14c0 1.1.9 2 2 2h14c1.1 0 2-.9 2-2V5c0-1.1-.9-2-2-2zM9 17H7v-7h2v7zm4 0h-2V7h2v10zm4 0h-2v-4h2v4z\"/>\n",
              "    </g>\n",
              "</svg>\n",
              "      </button>\n",
              "\n",
              "<style>\n",
              "  .colab-df-quickchart {\n",
              "      --bg-color: #E8F0FE;\n",
              "      --fill-color: #1967D2;\n",
              "      --hover-bg-color: #E2EBFA;\n",
              "      --hover-fill-color: #174EA6;\n",
              "      --disabled-fill-color: #AAA;\n",
              "      --disabled-bg-color: #DDD;\n",
              "  }\n",
              "\n",
              "  [theme=dark] .colab-df-quickchart {\n",
              "      --bg-color: #3B4455;\n",
              "      --fill-color: #D2E3FC;\n",
              "      --hover-bg-color: #434B5C;\n",
              "      --hover-fill-color: #FFFFFF;\n",
              "      --disabled-bg-color: #3B4455;\n",
              "      --disabled-fill-color: #666;\n",
              "  }\n",
              "\n",
              "  .colab-df-quickchart {\n",
              "    background-color: var(--bg-color);\n",
              "    border: none;\n",
              "    border-radius: 50%;\n",
              "    cursor: pointer;\n",
              "    display: none;\n",
              "    fill: var(--fill-color);\n",
              "    height: 32px;\n",
              "    padding: 0;\n",
              "    width: 32px;\n",
              "  }\n",
              "\n",
              "  .colab-df-quickchart:hover {\n",
              "    background-color: var(--hover-bg-color);\n",
              "    box-shadow: 0 1px 2px rgba(60, 64, 67, 0.3), 0 1px 3px 1px rgba(60, 64, 67, 0.15);\n",
              "    fill: var(--button-hover-fill-color);\n",
              "  }\n",
              "\n",
              "  .colab-df-quickchart-complete:disabled,\n",
              "  .colab-df-quickchart-complete:disabled:hover {\n",
              "    background-color: var(--disabled-bg-color);\n",
              "    fill: var(--disabled-fill-color);\n",
              "    box-shadow: none;\n",
              "  }\n",
              "\n",
              "  .colab-df-spinner {\n",
              "    border: 2px solid var(--fill-color);\n",
              "    border-color: transparent;\n",
              "    border-bottom-color: var(--fill-color);\n",
              "    animation:\n",
              "      spin 1s steps(1) infinite;\n",
              "  }\n",
              "\n",
              "  @keyframes spin {\n",
              "    0% {\n",
              "      border-color: transparent;\n",
              "      border-bottom-color: var(--fill-color);\n",
              "      border-left-color: var(--fill-color);\n",
              "    }\n",
              "    20% {\n",
              "      border-color: transparent;\n",
              "      border-left-color: var(--fill-color);\n",
              "      border-top-color: var(--fill-color);\n",
              "    }\n",
              "    30% {\n",
              "      border-color: transparent;\n",
              "      border-left-color: var(--fill-color);\n",
              "      border-top-color: var(--fill-color);\n",
              "      border-right-color: var(--fill-color);\n",
              "    }\n",
              "    40% {\n",
              "      border-color: transparent;\n",
              "      border-right-color: var(--fill-color);\n",
              "      border-top-color: var(--fill-color);\n",
              "    }\n",
              "    60% {\n",
              "      border-color: transparent;\n",
              "      border-right-color: var(--fill-color);\n",
              "    }\n",
              "    80% {\n",
              "      border-color: transparent;\n",
              "      border-right-color: var(--fill-color);\n",
              "      border-bottom-color: var(--fill-color);\n",
              "    }\n",
              "    90% {\n",
              "      border-color: transparent;\n",
              "      border-bottom-color: var(--fill-color);\n",
              "    }\n",
              "  }\n",
              "</style>\n",
              "\n",
              "      <script>\n",
              "        async function quickchart(key) {\n",
              "          const quickchartButtonEl =\n",
              "            document.querySelector('#' + key + ' button');\n",
              "          quickchartButtonEl.disabled = true;  // To prevent multiple clicks.\n",
              "          quickchartButtonEl.classList.add('colab-df-spinner');\n",
              "          try {\n",
              "            const charts = await google.colab.kernel.invokeFunction(\n",
              "                'suggestCharts', [key], {});\n",
              "          } catch (error) {\n",
              "            console.error('Error during call to suggestCharts:', error);\n",
              "          }\n",
              "          quickchartButtonEl.classList.remove('colab-df-spinner');\n",
              "          quickchartButtonEl.classList.add('colab-df-quickchart-complete');\n",
              "        }\n",
              "        (() => {\n",
              "          let quickchartButtonEl =\n",
              "            document.querySelector('#df-a53e7958-1b80-4138-812d-241055ad064d button');\n",
              "          quickchartButtonEl.style.display =\n",
              "            google.colab.kernel.accessAllowed ? 'block' : 'none';\n",
              "        })();\n",
              "      </script>\n",
              "    </div>\n",
              "\n",
              "    </div>\n",
              "  </div>\n"
            ],
            "application/vnd.google.colaboratory.intrinsic+json": {
              "type": "dataframe",
              "variable_name": "df_clean",
              "summary": "{\n  \"name\": \"df_clean\",\n  \"rows\": 9981,\n  \"fields\": [\n    {\n      \"column\": \"Job Title\",\n      \"properties\": {\n        \"dtype\": \"category\",\n        \"num_unique_values\": 147,\n        \"samples\": [\n          \"Accountant\",\n          \"Marketing Specialist\",\n          \"Public Relations Specialist\"\n        ],\n        \"semantic_type\": \"\",\n        \"description\": \"\"\n      }\n    },\n    {\n      \"column\": \"Job Description\",\n      \"properties\": {\n        \"dtype\": \"category\",\n        \"num_unique_values\": 376,\n        \"samples\": [\n          \"Pediatric Speech Therapists provide speech therapy to children with speech and language disorders. They assess and treat communication difficulties to improve language skills.\",\n          \"Wealth Advisors provide financial advice to clients. They assess financial goals, create investment strategies, and offer guidance on wealth management and financial planning.\",\n          \"Lighting Designers create lighting plans for architectural and artistic purposes. They enhance spaces with lighting effects, aesthetics, and energy-efficient lighting solutions.\"\n        ],\n        \"semantic_type\": \"\",\n        \"description\": \"\"\n      }\n    },\n    {\n      \"column\": \"skills\",\n      \"properties\": {\n        \"dtype\": \"category\",\n        \"num_unique_values\": 376,\n        \"samples\": [\n          \"Pediatric speech therapy Speech-language assessment Individualized treatment plans Child development Communication skills\",\n          \"Financial planning Investment knowledge Relationship management Communication skills Analytical skills\",\n          \"Lighting design Architectural lighting Lighting software proficiency Creative lighting concepts Technical knowledge\"\n        ],\n        \"semantic_type\": \"\",\n        \"description\": \"\"\n      }\n    },\n    {\n      \"column\": \"Responsibilities\",\n      \"properties\": {\n        \"dtype\": \"category\",\n        \"num_unique_values\": 375,\n        \"samples\": [\n          \"Manage paid advertising campaigns on various platforms, including social media and display networks. Create ad creatives and targeting strategies. Monitor ad spend and ROI.\",\n          \"Establish and enforce quality control standards and procedures. Conduct quality audits and inspections. Collaborate with production teams to address quality issues and implement improvements.\",\n          \"Provide therapy and counseling services to individuals, couples, and families. Conduct psychological assessments and diagnoses. Develop treatment plans and provide ongoing support.\"\n        ],\n        \"semantic_type\": \"\",\n        \"description\": \"\"\n      }\n    },\n    {\n      \"column\": \"Qualifications\",\n      \"properties\": {\n        \"dtype\": \"category\",\n        \"num_unique_values\": 10,\n        \"samples\": [\n          \"M.Tech\",\n          \"BCA\",\n          \"MBA\"\n        ],\n        \"semantic_type\": \"\",\n        \"description\": \"\"\n      }\n    },\n    {\n      \"column\": \"location\",\n      \"properties\": {\n        \"dtype\": \"category\",\n        \"num_unique_values\": 214,\n        \"samples\": [\n          \"Sri Jayawardenepura Kotte\",\n          \"Damascus\",\n          \"Tegucigalpa\"\n        ],\n        \"semantic_type\": \"\",\n        \"description\": \"\"\n      }\n    },\n    {\n      \"column\": \"Work Type\",\n      \"properties\": {\n        \"dtype\": \"category\",\n        \"num_unique_values\": 5,\n        \"samples\": [\n          \"Full-Time\",\n          \"Contract\",\n          \"Part-Time\"\n        ],\n        \"semantic_type\": \"\",\n        \"description\": \"\"\n      }\n    }\n  ]\n}"
            }
          },
          "metadata": {},
          "execution_count": 22
        }
      ]
    },
    {
      "cell_type": "code",
      "source": [
        "df_clean['Job Title'].value_counts()"
      ],
      "metadata": {
        "colab": {
          "base_uri": "https://localhost:8080/",
          "height": 489
        },
        "id": "bxDo5dOqqJkQ",
        "outputId": "d4b2bb37-8757-40fa-eb6c-7c8c0c1c21bb"
      },
      "execution_count": 44,
      "outputs": [
        {
          "output_type": "execute_result",
          "data": {
            "text/plain": [
              "Job Title\n",
              "UX/UI Designer                  300\n",
              "Software Engineer               176\n",
              "Digital Marketing Specialist    175\n",
              "Network Engineer                147\n",
              "Procurement Manager             146\n",
              "                               ... \n",
              "Sales Associate                  18\n",
              "Investment Advisor               17\n",
              "Event Manager                    17\n",
              "IT Administrator                 16\n",
              "Procurement Coordinator          14\n",
              "Name: count, Length: 147, dtype: int64"
            ],
            "text/html": [
              "<div>\n",
              "<style scoped>\n",
              "    .dataframe tbody tr th:only-of-type {\n",
              "        vertical-align: middle;\n",
              "    }\n",
              "\n",
              "    .dataframe tbody tr th {\n",
              "        vertical-align: top;\n",
              "    }\n",
              "\n",
              "    .dataframe thead th {\n",
              "        text-align: right;\n",
              "    }\n",
              "</style>\n",
              "<table border=\"1\" class=\"dataframe\">\n",
              "  <thead>\n",
              "    <tr style=\"text-align: right;\">\n",
              "      <th></th>\n",
              "      <th>count</th>\n",
              "    </tr>\n",
              "    <tr>\n",
              "      <th>Job Title</th>\n",
              "      <th></th>\n",
              "    </tr>\n",
              "  </thead>\n",
              "  <tbody>\n",
              "    <tr>\n",
              "      <th>UX/UI Designer</th>\n",
              "      <td>300</td>\n",
              "    </tr>\n",
              "    <tr>\n",
              "      <th>Software Engineer</th>\n",
              "      <td>176</td>\n",
              "    </tr>\n",
              "    <tr>\n",
              "      <th>Digital Marketing Specialist</th>\n",
              "      <td>175</td>\n",
              "    </tr>\n",
              "    <tr>\n",
              "      <th>Network Engineer</th>\n",
              "      <td>147</td>\n",
              "    </tr>\n",
              "    <tr>\n",
              "      <th>Procurement Manager</th>\n",
              "      <td>146</td>\n",
              "    </tr>\n",
              "    <tr>\n",
              "      <th>...</th>\n",
              "      <td>...</td>\n",
              "    </tr>\n",
              "    <tr>\n",
              "      <th>Sales Associate</th>\n",
              "      <td>18</td>\n",
              "    </tr>\n",
              "    <tr>\n",
              "      <th>Investment Advisor</th>\n",
              "      <td>17</td>\n",
              "    </tr>\n",
              "    <tr>\n",
              "      <th>Event Manager</th>\n",
              "      <td>17</td>\n",
              "    </tr>\n",
              "    <tr>\n",
              "      <th>IT Administrator</th>\n",
              "      <td>16</td>\n",
              "    </tr>\n",
              "    <tr>\n",
              "      <th>Procurement Coordinator</th>\n",
              "      <td>14</td>\n",
              "    </tr>\n",
              "  </tbody>\n",
              "</table>\n",
              "<p>147 rows × 1 columns</p>\n",
              "</div><br><label><b>dtype:</b> int64</label>"
            ]
          },
          "metadata": {},
          "execution_count": 44
        }
      ]
    },
    {
      "cell_type": "markdown",
      "source": [
        "# Modeling"
      ],
      "metadata": {
        "id": "ntLOvmcBvt_W"
      }
    },
    {
      "cell_type": "code",
      "source": [
        "df_modeling = df_clean.copy()"
      ],
      "metadata": {
        "id": "MboI9wbr8bOD"
      },
      "execution_count": 23,
      "outputs": []
    },
    {
      "cell_type": "markdown",
      "source": [
        "## Data  Preprosessing"
      ],
      "metadata": {
        "id": "Bi0eXWP48X6t"
      }
    },
    {
      "cell_type": "code",
      "source": [
        "df_modeling = df_modeling.reset_index(drop=True)"
      ],
      "metadata": {
        "id": "Vr1945eO-srj"
      },
      "execution_count": 24,
      "outputs": []
    },
    {
      "cell_type": "code",
      "source": [
        "df_modeling['combined_text'] = (\n",
        "  df_modeling['skills'] + ' ' +\n",
        "  df_modeling['Job Description'] + ' ' +\n",
        "  df_modeling['Responsibilities'] + ' ' +\n",
        "  df_modeling['Qualifications'] + ' ' +\n",
        "  df_modeling['location'] + ' ' +\n",
        "  df_modeling['Work Type']\n",
        ")"
      ],
      "metadata": {
        "id": "pNX2or-nvvLS"
      },
      "execution_count": 25,
      "outputs": []
    },
    {
      "cell_type": "code",
      "source": [
        "def clean_text(text):\n",
        "  text = text.lower()\n",
        "  text = re.sub(r'\\d+', '', text)  # hapus angka\n",
        "  text = re.sub(r'[^\\w\\s]', '', text)  # hapus tanda baca\n",
        "  return text\n",
        "\n",
        "df_modeling['combined_text'] = df_modeling['combined_text'].apply(clean_text)"
      ],
      "metadata": {
        "id": "0OrvbjegAcwU"
      },
      "execution_count": 26,
      "outputs": []
    },
    {
      "cell_type": "markdown",
      "source": [
        "Ingin prediksi `Work Type`"
      ],
      "metadata": {
        "id": "t1G3fFxj8itL"
      }
    },
    {
      "cell_type": "code",
      "source": [
        "label_encoder = LabelEncoder()\n",
        "df_modeling['Work Type Encoded'] = label_encoder.fit_transform(df_modeling['Work Type'])"
      ],
      "metadata": {
        "id": "8TIPCQaK8fjT"
      },
      "execution_count": 27,
      "outputs": []
    },
    {
      "cell_type": "markdown",
      "source": [
        "## Content Based Filtering"
      ],
      "metadata": {
        "id": "rzF0qr5c8o1A"
      }
    },
    {
      "cell_type": "code",
      "source": [
        "# TF-IDF Vectirization\n",
        "tfidf = TfidfVectorizer(stop_words='english', max_features=10000)\n",
        "tfidf_matrix = tfidf.fit_transform(df_modeling['combined_text'])"
      ],
      "metadata": {
        "id": "pr8kLd_O8rVu"
      },
      "execution_count": 28,
      "outputs": []
    },
    {
      "cell_type": "code",
      "source": [
        "# Cosine Similarty\n",
        "cosine_sim = cosine_similarity(tfidf_matrix, tfidf_matrix)"
      ],
      "metadata": {
        "id": "IRTixq0a8wWt"
      },
      "execution_count": 29,
      "outputs": []
    },
    {
      "cell_type": "code",
      "source": [
        "# Lowercase untuk pencarian job title\n",
        "df_modeling['Job Title Lower'] = df_modeling['Job Title'].str.lower()\n",
        "\n",
        "# Mapping index berdasarkan job title lowercase\n",
        "indices = pd.Series(df_modeling.index, index=df_modeling['Job Title Lower']).drop_duplicates()"
      ],
      "metadata": {
        "id": "OiFJDGdz_BsG"
      },
      "execution_count": 30,
      "outputs": []
    },
    {
      "cell_type": "code",
      "source": [
        "# Fungsi Rekomendasi\n",
        "# indices = pd.Series(df_modeling.index, index=df_modeling['Job Title']).drop_duplicates()\n",
        "def recommend_jobs(job_title, top_n=5):\n",
        "  # Cari job title yang mengandung kata kunci, dalam df_modeling\n",
        "  matches = df_modeling[df_modeling['Job Title'].str.lower().str.contains(job_title.lower())]\n",
        "\n",
        "  if matches.empty:\n",
        "    return \"Job Title tidak ditemukan.\"\n",
        "\n",
        "  # Ambil index posisi (0–9999) dari hasil match (bukan index asli dari dataset awal)\n",
        "  idx = matches.index[0]\n",
        "\n",
        "  # Hitung similarity terhadap semua job\n",
        "  sim_scores = list(enumerate(cosine_sim[idx]))\n",
        "  sim_scores = sorted(sim_scores, key=lambda x: x[1], reverse=True)\n",
        "\n",
        "  # Ambil top_n, skip dirinya sendiri (index ke-0)\n",
        "  sim_scores = sim_scores[1:top_n+1]\n",
        "  job_indices = [i[0] for i in sim_scores]\n",
        "  scores = [round(score * 100, 2) for _, score in sim_scores]\n",
        "\n",
        "  # Ambil data dari df_modeling\n",
        "  result = df_modeling.iloc[job_indices][['Job Title', 'location', 'Work Type']].copy()\n",
        "  result['Similarity (%)'] = scores\n",
        "\n",
        "  return result"
      ],
      "metadata": {
        "id": "52IQsoJr80ht"
      },
      "execution_count": 31,
      "outputs": []
    },
    {
      "cell_type": "code",
      "source": [
        "df_modeling = df_modeling.reset_index(drop=True)"
      ],
      "metadata": {
        "id": "HzvoIqVdBaJF"
      },
      "execution_count": 32,
      "outputs": []
    },
    {
      "cell_type": "code",
      "source": [
        "recommend_jobs('Software Engine')"
      ],
      "metadata": {
        "colab": {
          "base_uri": "https://localhost:8080/",
          "height": 206
        },
        "id": "G35uz8Ns9_eG",
        "outputId": "a6fbcf85-ae38-4bbe-bdee-75991606b3ed"
      },
      "execution_count": 33,
      "outputs": [
        {
          "output_type": "execute_result",
          "data": {
            "text/plain": [
              "              Job Title  location  Work Type  Similarity (%)\n",
              "4479  Software Engineer  Belgrade     Intern           97.77\n",
              "4484  Software Engineer    Harare   Contract           97.68\n",
              "2129  Software Engineer    Ankara  Temporary           97.63\n",
              "9723  Software Engineer  Belgrade  Part-Time           97.57\n",
              "5769  Software Engineer    Prague  Part-Time           97.56"
            ],
            "text/html": [
              "\n",
              "  <div id=\"df-146ceed7-3fa5-4434-bdfd-84ce79ce3d34\" class=\"colab-df-container\">\n",
              "    <div>\n",
              "<style scoped>\n",
              "    .dataframe tbody tr th:only-of-type {\n",
              "        vertical-align: middle;\n",
              "    }\n",
              "\n",
              "    .dataframe tbody tr th {\n",
              "        vertical-align: top;\n",
              "    }\n",
              "\n",
              "    .dataframe thead th {\n",
              "        text-align: right;\n",
              "    }\n",
              "</style>\n",
              "<table border=\"1\" class=\"dataframe\">\n",
              "  <thead>\n",
              "    <tr style=\"text-align: right;\">\n",
              "      <th></th>\n",
              "      <th>Job Title</th>\n",
              "      <th>location</th>\n",
              "      <th>Work Type</th>\n",
              "      <th>Similarity (%)</th>\n",
              "    </tr>\n",
              "  </thead>\n",
              "  <tbody>\n",
              "    <tr>\n",
              "      <th>4479</th>\n",
              "      <td>Software Engineer</td>\n",
              "      <td>Belgrade</td>\n",
              "      <td>Intern</td>\n",
              "      <td>97.77</td>\n",
              "    </tr>\n",
              "    <tr>\n",
              "      <th>4484</th>\n",
              "      <td>Software Engineer</td>\n",
              "      <td>Harare</td>\n",
              "      <td>Contract</td>\n",
              "      <td>97.68</td>\n",
              "    </tr>\n",
              "    <tr>\n",
              "      <th>2129</th>\n",
              "      <td>Software Engineer</td>\n",
              "      <td>Ankara</td>\n",
              "      <td>Temporary</td>\n",
              "      <td>97.63</td>\n",
              "    </tr>\n",
              "    <tr>\n",
              "      <th>9723</th>\n",
              "      <td>Software Engineer</td>\n",
              "      <td>Belgrade</td>\n",
              "      <td>Part-Time</td>\n",
              "      <td>97.57</td>\n",
              "    </tr>\n",
              "    <tr>\n",
              "      <th>5769</th>\n",
              "      <td>Software Engineer</td>\n",
              "      <td>Prague</td>\n",
              "      <td>Part-Time</td>\n",
              "      <td>97.56</td>\n",
              "    </tr>\n",
              "  </tbody>\n",
              "</table>\n",
              "</div>\n",
              "    <div class=\"colab-df-buttons\">\n",
              "\n",
              "  <div class=\"colab-df-container\">\n",
              "    <button class=\"colab-df-convert\" onclick=\"convertToInteractive('df-146ceed7-3fa5-4434-bdfd-84ce79ce3d34')\"\n",
              "            title=\"Convert this dataframe to an interactive table.\"\n",
              "            style=\"display:none;\">\n",
              "\n",
              "  <svg xmlns=\"http://www.w3.org/2000/svg\" height=\"24px\" viewBox=\"0 -960 960 960\">\n",
              "    <path d=\"M120-120v-720h720v720H120Zm60-500h600v-160H180v160Zm220 220h160v-160H400v160Zm0 220h160v-160H400v160ZM180-400h160v-160H180v160Zm440 0h160v-160H620v160ZM180-180h160v-160H180v160Zm440 0h160v-160H620v160Z\"/>\n",
              "  </svg>\n",
              "    </button>\n",
              "\n",
              "  <style>\n",
              "    .colab-df-container {\n",
              "      display:flex;\n",
              "      gap: 12px;\n",
              "    }\n",
              "\n",
              "    .colab-df-convert {\n",
              "      background-color: #E8F0FE;\n",
              "      border: none;\n",
              "      border-radius: 50%;\n",
              "      cursor: pointer;\n",
              "      display: none;\n",
              "      fill: #1967D2;\n",
              "      height: 32px;\n",
              "      padding: 0 0 0 0;\n",
              "      width: 32px;\n",
              "    }\n",
              "\n",
              "    .colab-df-convert:hover {\n",
              "      background-color: #E2EBFA;\n",
              "      box-shadow: 0px 1px 2px rgba(60, 64, 67, 0.3), 0px 1px 3px 1px rgba(60, 64, 67, 0.15);\n",
              "      fill: #174EA6;\n",
              "    }\n",
              "\n",
              "    .colab-df-buttons div {\n",
              "      margin-bottom: 4px;\n",
              "    }\n",
              "\n",
              "    [theme=dark] .colab-df-convert {\n",
              "      background-color: #3B4455;\n",
              "      fill: #D2E3FC;\n",
              "    }\n",
              "\n",
              "    [theme=dark] .colab-df-convert:hover {\n",
              "      background-color: #434B5C;\n",
              "      box-shadow: 0px 1px 3px 1px rgba(0, 0, 0, 0.15);\n",
              "      filter: drop-shadow(0px 1px 2px rgba(0, 0, 0, 0.3));\n",
              "      fill: #FFFFFF;\n",
              "    }\n",
              "  </style>\n",
              "\n",
              "    <script>\n",
              "      const buttonEl =\n",
              "        document.querySelector('#df-146ceed7-3fa5-4434-bdfd-84ce79ce3d34 button.colab-df-convert');\n",
              "      buttonEl.style.display =\n",
              "        google.colab.kernel.accessAllowed ? 'block' : 'none';\n",
              "\n",
              "      async function convertToInteractive(key) {\n",
              "        const element = document.querySelector('#df-146ceed7-3fa5-4434-bdfd-84ce79ce3d34');\n",
              "        const dataTable =\n",
              "          await google.colab.kernel.invokeFunction('convertToInteractive',\n",
              "                                                    [key], {});\n",
              "        if (!dataTable) return;\n",
              "\n",
              "        const docLinkHtml = 'Like what you see? Visit the ' +\n",
              "          '<a target=\"_blank\" href=https://colab.research.google.com/notebooks/data_table.ipynb>data table notebook</a>'\n",
              "          + ' to learn more about interactive tables.';\n",
              "        element.innerHTML = '';\n",
              "        dataTable['output_type'] = 'display_data';\n",
              "        await google.colab.output.renderOutput(dataTable, element);\n",
              "        const docLink = document.createElement('div');\n",
              "        docLink.innerHTML = docLinkHtml;\n",
              "        element.appendChild(docLink);\n",
              "      }\n",
              "    </script>\n",
              "  </div>\n",
              "\n",
              "\n",
              "    <div id=\"df-6eeb2e09-f83b-4499-89f1-ee942e6aa7ce\">\n",
              "      <button class=\"colab-df-quickchart\" onclick=\"quickchart('df-6eeb2e09-f83b-4499-89f1-ee942e6aa7ce')\"\n",
              "                title=\"Suggest charts\"\n",
              "                style=\"display:none;\">\n",
              "\n",
              "<svg xmlns=\"http://www.w3.org/2000/svg\" height=\"24px\"viewBox=\"0 0 24 24\"\n",
              "     width=\"24px\">\n",
              "    <g>\n",
              "        <path d=\"M19 3H5c-1.1 0-2 .9-2 2v14c0 1.1.9 2 2 2h14c1.1 0 2-.9 2-2V5c0-1.1-.9-2-2-2zM9 17H7v-7h2v7zm4 0h-2V7h2v10zm4 0h-2v-4h2v4z\"/>\n",
              "    </g>\n",
              "</svg>\n",
              "      </button>\n",
              "\n",
              "<style>\n",
              "  .colab-df-quickchart {\n",
              "      --bg-color: #E8F0FE;\n",
              "      --fill-color: #1967D2;\n",
              "      --hover-bg-color: #E2EBFA;\n",
              "      --hover-fill-color: #174EA6;\n",
              "      --disabled-fill-color: #AAA;\n",
              "      --disabled-bg-color: #DDD;\n",
              "  }\n",
              "\n",
              "  [theme=dark] .colab-df-quickchart {\n",
              "      --bg-color: #3B4455;\n",
              "      --fill-color: #D2E3FC;\n",
              "      --hover-bg-color: #434B5C;\n",
              "      --hover-fill-color: #FFFFFF;\n",
              "      --disabled-bg-color: #3B4455;\n",
              "      --disabled-fill-color: #666;\n",
              "  }\n",
              "\n",
              "  .colab-df-quickchart {\n",
              "    background-color: var(--bg-color);\n",
              "    border: none;\n",
              "    border-radius: 50%;\n",
              "    cursor: pointer;\n",
              "    display: none;\n",
              "    fill: var(--fill-color);\n",
              "    height: 32px;\n",
              "    padding: 0;\n",
              "    width: 32px;\n",
              "  }\n",
              "\n",
              "  .colab-df-quickchart:hover {\n",
              "    background-color: var(--hover-bg-color);\n",
              "    box-shadow: 0 1px 2px rgba(60, 64, 67, 0.3), 0 1px 3px 1px rgba(60, 64, 67, 0.15);\n",
              "    fill: var(--button-hover-fill-color);\n",
              "  }\n",
              "\n",
              "  .colab-df-quickchart-complete:disabled,\n",
              "  .colab-df-quickchart-complete:disabled:hover {\n",
              "    background-color: var(--disabled-bg-color);\n",
              "    fill: var(--disabled-fill-color);\n",
              "    box-shadow: none;\n",
              "  }\n",
              "\n",
              "  .colab-df-spinner {\n",
              "    border: 2px solid var(--fill-color);\n",
              "    border-color: transparent;\n",
              "    border-bottom-color: var(--fill-color);\n",
              "    animation:\n",
              "      spin 1s steps(1) infinite;\n",
              "  }\n",
              "\n",
              "  @keyframes spin {\n",
              "    0% {\n",
              "      border-color: transparent;\n",
              "      border-bottom-color: var(--fill-color);\n",
              "      border-left-color: var(--fill-color);\n",
              "    }\n",
              "    20% {\n",
              "      border-color: transparent;\n",
              "      border-left-color: var(--fill-color);\n",
              "      border-top-color: var(--fill-color);\n",
              "    }\n",
              "    30% {\n",
              "      border-color: transparent;\n",
              "      border-left-color: var(--fill-color);\n",
              "      border-top-color: var(--fill-color);\n",
              "      border-right-color: var(--fill-color);\n",
              "    }\n",
              "    40% {\n",
              "      border-color: transparent;\n",
              "      border-right-color: var(--fill-color);\n",
              "      border-top-color: var(--fill-color);\n",
              "    }\n",
              "    60% {\n",
              "      border-color: transparent;\n",
              "      border-right-color: var(--fill-color);\n",
              "    }\n",
              "    80% {\n",
              "      border-color: transparent;\n",
              "      border-right-color: var(--fill-color);\n",
              "      border-bottom-color: var(--fill-color);\n",
              "    }\n",
              "    90% {\n",
              "      border-color: transparent;\n",
              "      border-bottom-color: var(--fill-color);\n",
              "    }\n",
              "  }\n",
              "</style>\n",
              "\n",
              "      <script>\n",
              "        async function quickchart(key) {\n",
              "          const quickchartButtonEl =\n",
              "            document.querySelector('#' + key + ' button');\n",
              "          quickchartButtonEl.disabled = true;  // To prevent multiple clicks.\n",
              "          quickchartButtonEl.classList.add('colab-df-spinner');\n",
              "          try {\n",
              "            const charts = await google.colab.kernel.invokeFunction(\n",
              "                'suggestCharts', [key], {});\n",
              "          } catch (error) {\n",
              "            console.error('Error during call to suggestCharts:', error);\n",
              "          }\n",
              "          quickchartButtonEl.classList.remove('colab-df-spinner');\n",
              "          quickchartButtonEl.classList.add('colab-df-quickchart-complete');\n",
              "        }\n",
              "        (() => {\n",
              "          let quickchartButtonEl =\n",
              "            document.querySelector('#df-6eeb2e09-f83b-4499-89f1-ee942e6aa7ce button');\n",
              "          quickchartButtonEl.style.display =\n",
              "            google.colab.kernel.accessAllowed ? 'block' : 'none';\n",
              "        })();\n",
              "      </script>\n",
              "    </div>\n",
              "\n",
              "    </div>\n",
              "  </div>\n"
            ],
            "application/vnd.google.colaboratory.intrinsic+json": {
              "type": "dataframe",
              "summary": "{\n  \"name\": \"recommend_jobs('Software Engine')\",\n  \"rows\": 5,\n  \"fields\": [\n    {\n      \"column\": \"Job Title\",\n      \"properties\": {\n        \"dtype\": \"category\",\n        \"num_unique_values\": 1,\n        \"samples\": [\n          \"Software Engineer\"\n        ],\n        \"semantic_type\": \"\",\n        \"description\": \"\"\n      }\n    },\n    {\n      \"column\": \"location\",\n      \"properties\": {\n        \"dtype\": \"string\",\n        \"num_unique_values\": 4,\n        \"samples\": [\n          \"Harare\"\n        ],\n        \"semantic_type\": \"\",\n        \"description\": \"\"\n      }\n    },\n    {\n      \"column\": \"Work Type\",\n      \"properties\": {\n        \"dtype\": \"string\",\n        \"num_unique_values\": 4,\n        \"samples\": [\n          \"Contract\"\n        ],\n        \"semantic_type\": \"\",\n        \"description\": \"\"\n      }\n    },\n    {\n      \"column\": \"Similarity (%)\",\n      \"properties\": {\n        \"dtype\": \"number\",\n        \"std\": 0.08642916174532793,\n        \"min\": 97.56,\n        \"max\": 97.77,\n        \"num_unique_values\": 5,\n        \"samples\": [\n          97.68\n        ],\n        \"semantic_type\": \"\",\n        \"description\": \"\"\n      }\n    }\n  ]\n}"
            }
          },
          "metadata": {},
          "execution_count": 33
        }
      ]
    },
    {
      "cell_type": "markdown",
      "source": [
        "# Evaluation"
      ],
      "metadata": {
        "id": "CMxdzi7Kvvbq"
      }
    },
    {
      "cell_type": "markdown",
      "source": [
        "## Pressision@k"
      ],
      "metadata": {
        "id": "A5qwsY9ppZjr"
      }
    },
    {
      "cell_type": "code",
      "source": [
        "ground_truth = {\n",
        "  'software engineer': ['software engineer', 'software developer'],\n",
        "  'data analyst': ['data analyst', 'business analyst'],\n",
        "  'marketing manager': ['marketing manager', 'digital marketing'],\n",
        "  'project manager': ['project manager'],\n",
        "  'ui/ux': ['ui/ux', 'Designer', 'ui/ux designer'],\n",
        "  'sales': ['sales', 'sales associat']\n",
        "}"
      ],
      "metadata": {
        "id": "CEH7J5I_CaWT"
      },
      "execution_count": 62,
      "outputs": []
    },
    {
      "cell_type": "code",
      "source": [
        "def precision_at_k(recommended, relevant, k=5):\n",
        "  recommended_titles = recommended['Job Title'].str.lower().tolist()\n",
        "  relevant_lower = [r.lower() for r in relevant]\n",
        "  hits = sum(1 for title in recommended_titles if any(rel in title for rel in relevant_lower))\n",
        "  return hits / k"
      ],
      "metadata": {
        "id": "oc0IKMUpo0al"
      },
      "execution_count": 39,
      "outputs": []
    },
    {
      "cell_type": "code",
      "source": [
        "test_queries = ['software engineer', 'data analyst', 'marketing manager', 'project manager', 'ui/ux', 'data scientist']\n",
        "precisions = []\n",
        "\n",
        "for query in test_queries:\n",
        "  recs = recommend_jobs(query, top_n=5)\n",
        "  if isinstance(recs, str):\n",
        "    print(f\"Query '{query}' tidak ditemukan.\")\n",
        "    continue\n",
        "  prec = precision_at_k(recs, ground_truth.get(query, []))\n",
        "  print(f\"Precision@5 untuk '{query}': {prec:.2f}\")\n",
        "  precisions.append(prec)\n",
        "\n",
        "print(f\"Rata-rata Precision@5: {sum(precisions)/len(precisions):.2f}\")\n"
      ],
      "metadata": {
        "colab": {
          "base_uri": "https://localhost:8080/"
        },
        "id": "tZ-1ca1no5Uu",
        "outputId": "78a70755-5eca-4bff-f9fa-6e7c3958bf05"
      },
      "execution_count": 63,
      "outputs": [
        {
          "output_type": "stream",
          "name": "stdout",
          "text": [
            "Precision@5 untuk 'software engineer': 1.00\n",
            "Precision@5 untuk 'data analyst': 1.00\n",
            "Precision@5 untuk 'marketing manager': 1.00\n",
            "Precision@5 untuk 'project manager': 1.00\n",
            "Query 'ui/ux' tidak ditemukan.\n",
            "Precision@5 untuk 'data scientist': 0.00\n",
            "Rata-rata Precision@5: 0.80\n"
          ]
        }
      ]
    },
    {
      "cell_type": "markdown",
      "source": [
        "## Coverage"
      ],
      "metadata": {
        "id": "j5Rwy9lEpdfn"
      }
    },
    {
      "cell_type": "code",
      "source": [
        "valid = 0\n",
        "for query in test_queries:\n",
        "    recs = recommend_jobs(query, top_n=5)\n",
        "    if not isinstance(recs, str):\n",
        "        valid += 1\n",
        "coverage = valid / len(test_queries)\n",
        "print(f\"Coverage: {coverage*100:.2f}%\")"
      ],
      "metadata": {
        "colab": {
          "base_uri": "https://localhost:8080/"
        },
        "id": "orkIEt1Vpfuh",
        "outputId": "b4915d3b-c482-4661-b555-eec4e37f5629"
      },
      "execution_count": 64,
      "outputs": [
        {
          "output_type": "stream",
          "name": "stdout",
          "text": [
            "Coverage: 83.33%\n"
          ]
        }
      ]
    },
    {
      "cell_type": "markdown",
      "source": [
        "\n",
        "# Metrik Evaluasi\n",
        "\n",
        "1. **Precision\\@k**\n",
        "   Precision\\@k mengukur proporsi pekerjaan yang relevan di antara *k* rekomendasi teratas yang diberikan oleh sistem.\n",
        "   Rumusnya:\n",
        "\n",
        "   $$\\text{Precision@k} = \\frac{\\text{Jumlah rekomendasi relevan dalam k teratas}}{k}$$\n",
        "\n",
        "   Metrik ini menilai ketepatan rekomendasi yang disajikan kepada pengguna, dimana nilai lebih tinggi menunjukkan relevansi yang lebih baik.\n",
        "\n",
        "2. **Coverage**\n",
        "   Coverage mengukur proporsi query pencarian pekerjaan yang berhasil diberikan rekomendasi oleh sistem dari seluruh query yang diuji.\n",
        "   Rumusnya:\n",
        "\n",
        "   $$\\text{Coverage} = \\frac{\\text{Jumlah query dengan rekomendasi valid}}{\\text{Total query}} \\times 100\\%$$\n",
        "\n",
        "   Metrik ini menilai sejauh mana sistem mampu memberikan rekomendasi untuk berbagai jenis pekerjaan yang dicari pengguna.\n",
        "\n",
        "\n",
        "   ### Kesimpulan\n",
        "\n",
        "Model rekomendasi pekerjaan berbasis content-based filtering ini telah berhasil memberikan rekomendasi yang relevan dengan tingkat akurasi tinggi untuk sebagian besar query. Coverage sebesar 83.33% menunjukkan bahwa sistem cukup luas dalam menyediakan rekomendasi untuk berbagai jenis pekerjaan. Meskipun demikian, ada ruang perbaikan terutama pada jenis pekerjaan dengan data lebih terbatas atau query yang kurang tepat, yang dapat menjadi fokus pengembangan selanjutnya untuk meningkatkan cakupan dan akurasi rekomendasi.\n"
      ],
      "metadata": {
        "id": "0nIrgszmD6tQ"
      }
    }
  ]
}